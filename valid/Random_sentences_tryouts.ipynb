{
 "cells": [
  {
   "cell_type": "code",
   "execution_count": 1,
   "metadata": {},
   "outputs": [
    {
     "data": {
      "text/plain": [
       "remove_ner_label_prefix (generic function with 1 method)"
      ]
     },
     "execution_count": 1,
     "metadata": {},
     "output_type": "execute_result"
    }
   ],
   "source": [
    "include(\"../src/ner.jl\")"
   ]
  },
  {
   "cell_type": "code",
   "execution_count": 2,
   "metadata": {},
   "outputs": [
    {
     "data": {
      "text/plain": [
       "NERmodel{BiLSTM_CNN_CRF_Model{Conv{2,2,typeof(identity),TrackedArray{…,Array{Float32,4}},TrackedArray{…,Array{Float32,1}}},Array{Float32,2},Flux.Recur{Flux.LSTMCell{TrackedArray{…,Array{Float32,2}},TrackedArray{…,Array{Float32,1}}}},Dense{typeof(identity),TrackedArray{…,Array{Float32,2}},TrackedArray{…,Array{Float32,1}}},CRF{TrackedArray{…,Array{Float32,2}}},Array{Int64,2}}}(BiLSTM_CNN_CRF_Model{Conv{2,2,typeof(identity),TrackedArray{…,Array{Float32,4}},TrackedArray{…,Array{Float32,1}}},Array{Float32,2},Flux.Recur{Flux.LSTMCell{TrackedArray{…,Array{Float32,2}},TrackedArray{…,Array{Float32,1}}}},Dense{typeof(identity),TrackedArray{…,Array{Float32,2}},TrackedArray{…,Array{Float32,1}}},CRF{TrackedArray{…,Array{Float32,2}}},Array{Int64,2}}([\"ORG\", \"O\", \"MISC\", \"PER\", \"PER\", \"LOC\", \"ORG\", \"ORG\", \"PER\", \"PER\", \"MISC\", \"MISC\", \"MISC\", \"ORG\", \"LOC\", \"LOC\", \"LOC\"], Dict('w'=>81,'E'=>34,'7'=>22,'Z'=>55,']'=>57,'o'=>73,'B'=>31,'5'=>20,'h'=>66,'i'=>67…), Dict(\"newdigate\"=>164100,\"daufuskie\"=>254784,\"single-arm\"=>192007,\"titration\"=>117879,\"qajar\"=>66399,\"pinheiro\"=>38763,\"hospitalet\"=>282158,\"kennedale\"=>223560,\"tetracyclic\"=>353804,\"moher\"=>167242…), Conv((25, 3), 1=>30), Float32[0.880601 0.153612 … 0.86051 0.858812; 0.887304 0.898423 … 0.515943 0.00389232; … ; 0.517678 0.954239 … 0.178151 0.0856252; 0.269013 0.325978 … 0.435523 0.763729], Float32[-0.038194 -0.10767 … 0.513332 0.782205; -0.24487 0.11053 … 0.519824 0.431589; … ; 0.8278 0.45293 … 0.0792154 0.498268; 0.27062 0.082577 … 0.51087 0.674251], Recur(LSTMCell(130, 200)), Recur(LSTMCell(130, 200)), Dense(400, 19), CRF with 19 distinct tags (including START and STOP tags)., [-10000; -10000; … ; 0; -10000], 400001, 85))"
      ]
     },
     "execution_count": 2,
     "metadata": {},
     "output_type": "execute_result"
    }
   ],
   "source": [
    "ner = NERTagger()"
   ]
  },
  {
   "cell_type": "code",
   "execution_count": 4,
   "metadata": {},
   "outputs": [
    {
     "data": {
      "text/plain": [
       "4-element Array{String,1}:\n",
       " \"PER\"\n",
       " \"O\"  \n",
       " \"O\"  \n",
       " \"O\"  "
      ]
     },
     "execution_count": 4,
     "metadata": {},
     "output_type": "execute_result"
    }
   ],
   "source": [
    "ner(\"Manjunath is thebhatman.\")"
   ]
  },
  {
   "cell_type": "code",
   "execution_count": 21,
   "metadata": {},
   "outputs": [
    {
     "data": {
      "text/plain": [
       "13-element Array{String,1}:\n",
       " \"O\"  \n",
       " \"O\"  \n",
       " \"O\"  \n",
       " \"O\"  \n",
       " \"O\"  \n",
       " \"O\"  \n",
       " \"PER\"\n",
       " \"PER\"\n",
       " \"O\"  \n",
       " \"LOC\"\n",
       " \"O\"  \n",
       " \"LOC\"\n",
       " \"O\"  "
      ]
     },
     "execution_count": 21,
     "metadata": {},
     "output_type": "execute_result"
    }
   ],
   "source": [
    "ner(\"This project is being mentored by Avik Sengupta from Bangalore in India.\")"
   ]
  },
  {
   "cell_type": "code",
   "execution_count": 22,
   "metadata": {},
   "outputs": [
    {
     "data": {
      "text/plain": [
       "8-element Array{String,1}:\n",
       " \"O\"  \n",
       " \"PER\"\n",
       " \"O\"  \n",
       " \"O\"  \n",
       " \"O\"  \n",
       " \"O\"  \n",
       " \"O\"  \n",
       " \"O\"  "
      ]
     },
     "execution_count": 22,
     "metadata": {},
     "output_type": "execute_result"
    }
   ],
   "source": [
    "ner(\"Is Julia a person or an organisation?\")"
   ]
  },
  {
   "cell_type": "code",
   "execution_count": 24,
   "metadata": {},
   "outputs": [
    {
     "data": {
      "text/plain": [
       "9-element Array{String,1}:\n",
       " \"O\"\n",
       " \"O\"\n",
       " \"O\"\n",
       " \"O\"\n",
       " \"O\"\n",
       " \"O\"\n",
       " \"O\"\n",
       " \"O\"\n",
       " \"O\""
      ]
     },
     "execution_count": 24,
     "metadata": {},
     "output_type": "execute_result"
    }
   ],
   "source": [
    "ner(\"Is Julialang a person or an organisation?\")"
   ]
  },
  {
   "cell_type": "code",
   "execution_count": 26,
   "metadata": {},
   "outputs": [
    {
     "data": {
      "text/plain": [
       "8-element Array{String,1}:\n",
       " \"O\"\n",
       " \"O\"\n",
       " \"O\"\n",
       " \"O\"\n",
       " \"O\"\n",
       " \"O\"\n",
       " \"O\"\n",
       " \"O\""
      ]
     },
     "execution_count": 26,
     "metadata": {},
     "output_type": "execute_result"
    }
   ],
   "source": [
    "ner(\"Is my name Ayushk4 or Ayush?\")"
   ]
  },
  {
   "cell_type": "code",
   "execution_count": 29,
   "metadata": {},
   "outputs": [
    {
     "data": {
      "text/plain": [
       "5-element Array{String,1}:\n",
       " \"O\"  \n",
       " \"O\"  \n",
       " \"PER\"\n",
       " \"PER\"\n",
       " \"O\"  "
      ]
     },
     "execution_count": 29,
     "metadata": {},
     "output_type": "execute_result"
    }
   ],
   "source": [
    "ner(\"Who is Ayush Kaushal?\")"
   ]
  },
  {
   "cell_type": "code",
   "execution_count": 31,
   "metadata": {},
   "outputs": [
    {
     "data": {
      "text/plain": [
       "6-element Array{String,1}:\n",
       " \"O\"  \n",
       " \"O\"  \n",
       " \"O\"  \n",
       " \"PER\"\n",
       " \"PER\"\n",
       " \"O\"  "
      ]
     },
     "execution_count": 31,
     "metadata": {},
     "output_type": "execute_result"
    }
   ],
   "source": [
    "ner(\"The bhatman is Manjunath Bhat.\")"
   ]
  },
  {
   "cell_type": "code",
   "execution_count": 33,
   "metadata": {},
   "outputs": [
    {
     "data": {
      "text/plain": [
       "9-element Array{String,1}:\n",
       " \"ORG\"\n",
       " \"O\"  \n",
       " \"PER\"\n",
       " \"PER\"\n",
       " \"O\"  \n",
       " \"O\"  \n",
       " \"O\"  \n",
       " \"ORG\"\n",
       " \"O\"  "
      ]
     },
     "execution_count": 33,
     "metadata": {},
     "output_type": "execute_result"
    }
   ],
   "source": [
    "ner(\"Oxinabox and Avik Sengupta are mentoring in Google.\")"
   ]
  },
  {
   "cell_type": "code",
   "execution_count": 34,
   "metadata": {},
   "outputs": [
    {
     "data": {
      "text/plain": [
       "12-element Array{String,1}:\n",
       " \"ORG\"\n",
       " \"O\"  \n",
       " \"PER\"\n",
       " \"PER\"\n",
       " \"O\"  \n",
       " \"O\"  \n",
       " \"O\"  \n",
       " \"ORG\"\n",
       " \"O\"  \n",
       " \"O\"  \n",
       " \"O\"  \n",
       " \"O\"  "
      ]
     },
     "execution_count": 34,
     "metadata": {},
     "output_type": "execute_result"
    }
   ],
   "source": [
    "ner(\"Oxinabox and Avik Sengupta are mentoring in Google Summer of Code.\")"
   ]
  },
  {
   "cell_type": "code",
   "execution_count": 42,
   "metadata": {},
   "outputs": [
    {
     "data": {
      "text/plain": [
       "11-element Array{String,1}:\n",
       " \"PER\"\n",
       " \"PER\"\n",
       " \"O\"  \n",
       " \"PER\"\n",
       " \"PER\"\n",
       " \"O\"  \n",
       " \"O\"  \n",
       " \"O\"  \n",
       " \"O\"  \n",
       " \"O\"  \n",
       " \"O\"  "
      ]
     },
     "execution_count": 42,
     "metadata": {},
     "output_type": "execute_result"
    }
   ],
   "source": [
    "ner(\"Lyndon White and Avik Sengupta are mentoring Ayush in GSoC.\")"
   ]
  },
  {
   "cell_type": "code",
   "execution_count": 43,
   "metadata": {},
   "outputs": [
    {
     "data": {
      "text/plain": [
       "9-element Array{String,1}:\n",
       " \"PER\"\n",
       " \"PER\"\n",
       " \"O\"  \n",
       " \"PER\"\n",
       " \"PER\"\n",
       " \"O\"  \n",
       " \"ORG\"\n",
       " \"ORG\"\n",
       " \"O\"  "
      ]
     },
     "execution_count": 43,
     "metadata": {},
     "output_type": "execute_result"
    }
   ],
   "source": [
    "ner(\"Lyndon White and Avik Sengupta and Julia Computing.\")"
   ]
  },
  {
   "cell_type": "code",
   "execution_count": 51,
   "metadata": {},
   "outputs": [
    {
     "data": {
      "text/plain": [
       "12-element Array{String,1}:\n",
       " \"PER\"\n",
       " \"PER\"\n",
       " \"O\"  \n",
       " \"PER\"\n",
       " \"PER\"\n",
       " \"O\"  \n",
       " \"O\"  \n",
       " \"ORG\"\n",
       " \"ORG\"\n",
       " \"O\"  \n",
       " \"LOC\"\n",
       " \"O\"  "
      ]
     },
     "execution_count": 51,
     "metadata": {},
     "output_type": "execute_result"
    }
   ],
   "source": [
    "ner(\"Lyndon White and Avik Sengupta affiliated with Julia Computing in Bangalore.\")"
   ]
  },
  {
   "cell_type": "code",
   "execution_count": 45,
   "metadata": {},
   "outputs": [
    {
     "data": {
      "text/plain": [
       "11-element Array{String,1}:\n",
       " \"PER\"\n",
       " \"PER\"\n",
       " \"O\"  \n",
       " \"PER\"\n",
       " \"PER\"\n",
       " \"O\"  \n",
       " \"PER\"\n",
       " \"O\"  \n",
       " \"O\"  \n",
       " \"LOC\"\n",
       " \"O\"  "
      ]
     },
     "execution_count": 45,
     "metadata": {},
     "output_type": "execute_result"
    }
   ],
   "source": [
    "ner(\"Lyndon White and Avik Sengupta and Julia Computing in Asia.\")"
   ]
  },
  {
   "cell_type": "code",
   "execution_count": 52,
   "metadata": {},
   "outputs": [
    {
     "data": {
      "text/plain": [
       "11-element Array{String,1}:\n",
       " \"PER\"\n",
       " \"PER\"\n",
       " \"O\"  \n",
       " \"PER\"\n",
       " \"PER\"\n",
       " \"O\"  \n",
       " \"O\"  \n",
       " \"ORG\"\n",
       " \"ORG\"\n",
       " \"ORG\"\n",
       " \"O\"  "
      ]
     },
     "execution_count": 52,
     "metadata": {},
     "output_type": "execute_result"
    }
   ],
   "source": [
    "ner(\"Lyndon White and Avik Sengupta affiliated with Julia Computing, India.\")"
   ]
  },
  {
   "cell_type": "code",
   "execution_count": 53,
   "metadata": {},
   "outputs": [
    {
     "data": {
      "text/plain": [
       "13-element Array{String,1}:\n",
       " \"PER\"\n",
       " \"PER\"\n",
       " \"O\"  \n",
       " \"PER\"\n",
       " \"PER\"\n",
       " \"O\"  \n",
       " \"O\"  \n",
       " \"O\"  \n",
       " \"PER\"\n",
       " \"PER\"\n",
       " \"O\"  \n",
       " \"LOC\"\n",
       " \"O\"  "
      ]
     },
     "execution_count": 53,
     "metadata": {},
     "output_type": "execute_result"
    }
   ],
   "source": [
    "ner(\"Lyndon White and Avik Sengupta are affiliated with Julia Computing, India.\")"
   ]
  },
  {
   "cell_type": "code",
   "execution_count": 54,
   "metadata": {},
   "outputs": [
    {
     "data": {
      "text/plain": [
       "8-element Array{String,1}:\n",
       " \"LOC\"\n",
       " \"O\"  \n",
       " \"LOC\"\n",
       " \"O\"  \n",
       " \"LOC\"\n",
       " \"O\"  \n",
       " \"O\"  \n",
       " \"O\"  "
      ]
     },
     "execution_count": 54,
     "metadata": {},
     "output_type": "execute_result"
    }
   ],
   "source": [
    "ner(\"India, Russia, China are countries.\")"
   ]
  },
  {
   "cell_type": "code",
   "execution_count": 55,
   "metadata": {},
   "outputs": [
    {
     "data": {
      "text/plain": [
       "8-element Array{String,1}:\n",
       " \"LOC\"\n",
       " \"O\"  \n",
       " \"LOC\"\n",
       " \"O\"  \n",
       " \"LOC\"\n",
       " \"O\"  \n",
       " \"O\"  \n",
       " \"O\"  "
      ]
     },
     "execution_count": 55,
     "metadata": {},
     "output_type": "execute_result"
    }
   ],
   "source": [
    "ner(\"India, Russia, China are CoUnTrIeS.\")"
   ]
  },
  {
   "cell_type": "code",
   "execution_count": 60,
   "metadata": {},
   "outputs": [
    {
     "data": {
      "text/plain": [
       "8-element Array{String,1}:\n",
       " \"LOC\"\n",
       " \"O\"  \n",
       " \"LOC\"\n",
       " \"O\"  \n",
       " \"LOC\"\n",
       " \"O\"  \n",
       " \"O\"  \n",
       " \"O\"  "
      ]
     },
     "execution_count": 60,
     "metadata": {},
     "output_type": "execute_result"
    }
   ],
   "source": [
    "ner(\"India, Russia, China are COUNTrie?\")"
   ]
  },
  {
   "cell_type": "code",
   "execution_count": 61,
   "metadata": {},
   "outputs": [
    {
     "data": {
      "text/plain": [
       "8-element Array{String,1}:\n",
       " \"LOC\"\n",
       " \"O\"  \n",
       " \"LOC\"\n",
       " \"O\"  \n",
       " \"LOC\"\n",
       " \"O\"  \n",
       " \"O\"  \n",
       " \"O\"  "
      ]
     },
     "execution_count": 61,
     "metadata": {},
     "output_type": "execute_result"
    }
   ],
   "source": [
    "ner(\"India, russia, china are COUNTrie?\")"
   ]
  },
  {
   "cell_type": "code",
   "execution_count": 62,
   "metadata": {},
   "outputs": [
    {
     "data": {
      "text/plain": [
       "4-element Array{String,1}:\n",
       " \"LOC\"\n",
       " \"O\"  \n",
       " \"LOC\"\n",
       " \"O\"  "
      ]
     },
     "execution_count": 62,
     "metadata": {},
     "output_type": "execute_result"
    }
   ],
   "source": [
    "ner(\"India neighbours China.\")"
   ]
  },
  {
   "cell_type": "code",
   "execution_count": 64,
   "metadata": {},
   "outputs": [
    {
     "data": {
      "text/plain": [
       "9-element Array{String,1}:\n",
       " \"ORG\"\n",
       " \"O\"  \n",
       " \"ORG\"\n",
       " \"O\"  \n",
       " \"O\"  \n",
       " \"O\"  \n",
       " \"ORG\"\n",
       " \"ORG\"\n",
       " \"O\"  "
      ]
     },
     "execution_count": 64,
     "metadata": {},
     "output_type": "execute_result"
    }
   ],
   "source": [
    "ner(\"Google, Yahoo and Mercari vs Manjunath Bhat.\")"
   ]
  },
  {
   "cell_type": "code",
   "execution_count": 69,
   "metadata": {},
   "outputs": [
    {
     "data": {
      "text/plain": [
       "12-element Array{String,1}:\n",
       " \"ORG\"\n",
       " \"ORG\"\n",
       " \"O\"  \n",
       " \"O\"  \n",
       " \"O\"  \n",
       " \"O\"  \n",
       " \"O\"  \n",
       " \"O\"  \n",
       " \"O\"  \n",
       " \"O\"  \n",
       " \"O\"  \n",
       " \"O\"  "
      ]
     },
     "execution_count": 69,
     "metadata": {},
     "output_type": "execute_result"
    }
   ],
   "source": [
    "ner(\"Apple watch, WordTokenizers, CorpusLoaders are maintained by the JuliaText.\")"
   ]
  },
  {
   "cell_type": "code",
   "execution_count": 70,
   "metadata": {},
   "outputs": [
    {
     "data": {
      "text/plain": [
       "12-element Array{String,1}:\n",
       " \"O\"  \n",
       " \"PER\"\n",
       " \"O\"  \n",
       " \"O\"  \n",
       " \"O\"  \n",
       " \"O\"  \n",
       " \"O\"  \n",
       " \"O\"  \n",
       " \"O\"  \n",
       " \"O\"  \n",
       " \"O\"  \n",
       " \"O\"  "
      ]
     },
     "execution_count": 70,
     "metadata": {},
     "output_type": "execute_result"
    }
   ],
   "source": [
    "ner(\"Shreyas Kowshik vs The Bhatman, who would you root for?\")"
   ]
  },
  {
   "cell_type": "code",
   "execution_count": 71,
   "metadata": {},
   "outputs": [
    {
     "data": {
      "text/plain": [
       "12-element Array{String,1}:\n",
       " \"ORG\"\n",
       " \"ORG\"\n",
       " \"O\"  \n",
       " \"PER\"\n",
       " \"PER\"\n",
       " \"O\"  \n",
       " \"O\"  \n",
       " \"O\"  \n",
       " \"O\"  \n",
       " \"O\"  \n",
       " \"O\"  \n",
       " \"O\"  "
      ]
     },
     "execution_count": 71,
     "metadata": {},
     "output_type": "execute_result"
    }
   ],
   "source": [
    "ner(\"Shreyas Kowshik vs Manjunath Bhat, who would you root for?\")"
   ]
  },
  {
   "cell_type": "code",
   "execution_count": 76,
   "metadata": {},
   "outputs": [
    {
     "data": {
      "text/plain": [
       "7-element Array{String,1}:\n",
       " \"O\"\n",
       " \"O\"\n",
       " \"O\"\n",
       " \"O\"\n",
       " \"O\"\n",
       " \"O\"\n",
       " \"O\""
      ]
     },
     "execution_count": 76,
     "metadata": {},
     "output_type": "execute_result"
    }
   ],
   "source": [
    "ner(\"Is'nt TheBhatman an organisation?\")"
   ]
  },
  {
   "cell_type": "code",
   "execution_count": 77,
   "metadata": {},
   "outputs": [
    {
     "data": {
      "text/plain": [
       "7-element Array{String,1}:\n",
       " \"O\"  \n",
       " \"O\"  \n",
       " \"PER\"\n",
       " \"O\"  \n",
       " \"O\"  \n",
       " \"O\"  \n",
       " \"O\"  "
      ]
     },
     "execution_count": 77,
     "metadata": {},
     "output_type": "execute_result"
    }
   ],
   "source": [
    "ner(\"No, thebhatman is a person.\")"
   ]
  },
  {
   "cell_type": "code",
   "execution_count": 78,
   "metadata": {},
   "outputs": [
    {
     "data": {
      "text/plain": [
       "5-element Array{String,1}:\n",
       " \"PER\"\n",
       " \"O\"  \n",
       " \"O\"  \n",
       " \"O\"  \n",
       " \"O\"  "
      ]
     },
     "execution_count": 78,
     "metadata": {},
     "output_type": "execute_result"
    }
   ],
   "source": [
    "ner(\"thebhatman is a person.\")"
   ]
  },
  {
   "cell_type": "code",
   "execution_count": 79,
   "metadata": {},
   "outputs": [
    {
     "data": {
      "text/plain": [
       "5-element Array{String,1}:\n",
       " \"PER\"\n",
       " \"O\"  \n",
       " \"O\"  \n",
       " \"O\"  \n",
       " \"O\"  "
      ]
     },
     "execution_count": 79,
     "metadata": {},
     "output_type": "execute_result"
    }
   ],
   "source": [
    "ner(\"thebhatman is an organisation.\")"
   ]
  },
  {
   "cell_type": "code",
   "execution_count": 80,
   "metadata": {},
   "outputs": [
    {
     "data": {
      "text/plain": [
       "6-element Array{String,1}:\n",
       " \"ORG\"\n",
       " \"O\"  \n",
       " \"O\"  \n",
       " \"O\"  \n",
       " \"O\"  \n",
       " \"O\"  "
      ]
     },
     "execution_count": 80,
     "metadata": {},
     "output_type": "execute_result"
    }
   ],
   "source": [
    "ner(\"thebhatman is not an organisation.\")"
   ]
  },
  {
   "cell_type": "code",
   "execution_count": 81,
   "metadata": {},
   "outputs": [
    {
     "data": {
      "text/plain": [
       "5-element Array{String,1}:\n",
       " \"ORG\"\n",
       " \"O\"  \n",
       " \"O\"  \n",
       " \"O\"  \n",
       " \"O\"  "
      ]
     },
     "execution_count": 81,
     "metadata": {},
     "output_type": "execute_result"
    }
   ],
   "source": [
    "ner(\"thebhatman does not exist.\")"
   ]
  },
  {
   "cell_type": "code",
   "execution_count": 83,
   "metadata": {},
   "outputs": [
    {
     "data": {
      "text/plain": [
       "6-element Array{String,1}:\n",
       " \"PER\"\n",
       " \"O\"  \n",
       " \"O\"  \n",
       " \"O\"  \n",
       " \"O\"  \n",
       " \"O\"  "
      ]
     },
     "execution_count": 83,
     "metadata": {},
     "output_type": "execute_result"
    }
   ],
   "source": [
    "ner(\"Manjunath is working on Flux.\")"
   ]
  },
  {
   "cell_type": "code",
   "execution_count": 84,
   "metadata": {},
   "outputs": [
    {
     "data": {
      "text/plain": [
       "9-element Array{String,1}:\n",
       " \"O\"   \n",
       " \"LOC\" \n",
       " \"O\"   \n",
       " \"O\"   \n",
       " \"O\"   \n",
       " \"O\"   \n",
       " \"MISC\"\n",
       " \"MISC\"\n",
       " \"O\"   "
      ]
     },
     "execution_count": 84,
     "metadata": {},
     "output_type": "execute_result"
    }
   ],
   "source": [
    "ner(\"Did India win the 1996 Football World Cup?\")"
   ]
  },
  {
   "cell_type": "code",
   "execution_count": 85,
   "metadata": {},
   "outputs": [
    {
     "data": {
      "text/plain": [
       "10-element Array{String,1}:\n",
       " \"O\"   \n",
       " \"O\"   \n",
       " \"ORG\" \n",
       " \"O\"   \n",
       " \"O\"   \n",
       " \"O\"   \n",
       " \"O\"   \n",
       " \"MISC\"\n",
       " \"MISC\"\n",
       " \"O\"   "
      ]
     },
     "execution_count": 85,
     "metadata": {},
     "output_type": "execute_result"
    }
   ],
   "source": [
    "ner(\"Did the Indians win the 1996 Football World Cup?\")"
   ]
  },
  {
   "cell_type": "code",
   "execution_count": 86,
   "metadata": {},
   "outputs": [
    {
     "data": {
      "text/plain": [
       "5-element Array{String,1}:\n",
       " \"O\"  \n",
       " \"PER\"\n",
       " \"O\"  \n",
       " \"O\"  \n",
       " \"O\"  "
      ]
     },
     "execution_count": 86,
     "metadata": {},
     "output_type": "execute_result"
    }
   ],
   "source": [
    "ner(\"Is Ayush a person?\")"
   ]
  },
  {
   "cell_type": "code",
   "execution_count": 87,
   "metadata": {},
   "outputs": [
    {
     "data": {
      "text/plain": [
       "6-element Array{String,1}:\n",
       " \"O\"  \n",
       " \"PER\"\n",
       " \"O\"  \n",
       " \"O\"  \n",
       " \"O\"  \n",
       " \"O\"  "
      ]
     },
     "execution_count": 87,
     "metadata": {},
     "output_type": "execute_result"
    }
   ],
   "source": [
    "ner(\"Is Ayush not a person?\")"
   ]
  },
  {
   "cell_type": "code",
   "execution_count": 88,
   "metadata": {},
   "outputs": [
    {
     "data": {
      "text/plain": [
       "9-element Array{String,1}:\n",
       " \"PER\"\n",
       " \"O\"  \n",
       " \"O\"  \n",
       " \"O\"  \n",
       " \"O\"  \n",
       " \"O\"  \n",
       " \"O\"  \n",
       " \"O\"  \n",
       " \"O\"  "
      ]
     },
     "execution_count": 88,
     "metadata": {},
     "output_type": "execute_result"
    }
   ],
   "source": [
    "ner(\"Ayush is not a person's name.\")"
   ]
  },
  {
   "cell_type": "code",
   "execution_count": 90,
   "metadata": {},
   "outputs": [
    {
     "data": {
      "text/plain": [
       "5-element Array{String,1}:\n",
       " \"PER\"\n",
       " \"O\"  \n",
       " \"O\"  \n",
       " \"O\"  \n",
       " \"O\"  "
      ]
     },
     "execution_count": 90,
     "metadata": {},
     "output_type": "execute_result"
    }
   ],
   "source": [
    "ner(\"Ayush is an organisation.\")"
   ]
  },
  {
   "cell_type": "code",
   "execution_count": 93,
   "metadata": {},
   "outputs": [
    {
     "data": {
      "text/plain": [
       "25-element Array{String,1}:\n",
       " \"O\"   \n",
       " \"O\"   \n",
       " \"O\"   \n",
       " \"O\"   \n",
       " \"O\"   \n",
       " \"O\"   \n",
       " \"O\"   \n",
       " \"MISC\"\n",
       " \"O\"   \n",
       " \"MISC\"\n",
       " \"O\"   \n",
       " \"MISC\"\n",
       " \"O\"   \n",
       " \"LOC\" \n",
       " \"O\"   \n",
       " \"O\"   \n",
       " \"O\"   \n",
       " \"O\"   \n",
       " \"O\"   \n",
       " \"O\"   \n",
       " \"O\"   \n",
       " \"O\"   \n",
       " \"O\"   \n",
       " \"O\"   \n",
       " \"O\"   "
      ]
     },
     "execution_count": 93,
     "metadata": {},
     "output_type": "execute_result"
    }
   ],
   "source": [
    "ner(\"Please tag these for me - \\\" Spanish, Vietnamese, Indian, India, Ayushk4, Physices, large round squares\\\" .\")"
   ]
  },
  {
   "cell_type": "code",
   "execution_count": 94,
   "metadata": {},
   "outputs": [
    {
     "data": {
      "text/plain": [
       "12-element Array{String,1}:\n",
       " \"O\"\n",
       " \"O\"\n",
       " \"O\"\n",
       " \"O\"\n",
       " \"O\"\n",
       " \"O\"\n",
       " \"O\"\n",
       " \"O\"\n",
       " \"O\"\n",
       " \"O\"\n",
       " \"O\"\n",
       " \"O\""
      ]
     },
     "execution_count": 94,
     "metadata": {},
     "output_type": "execute_result"
    }
   ],
   "source": [
    "ner(\"What about Deep Learning or Machine Learning or Natural Language Processing?\")"
   ]
  },
  {
   "cell_type": "code",
   "execution_count": 96,
   "metadata": {},
   "outputs": [
    {
     "data": {
      "text/plain": [
       "9-element Array{String,1}:\n",
       " \"O\"\n",
       " \"O\"\n",
       " \"O\"\n",
       " \"O\"\n",
       " \"O\"\n",
       " \"O\"\n",
       " \"O\"\n",
       " \"O\"\n",
       " \"O\""
      ]
     },
     "execution_count": 96,
     "metadata": {},
     "output_type": "execute_result"
    }
   ],
   "source": [
    "ner(\"Large Pink Red Blue ballons inside the library.\")"
   ]
  },
  {
   "cell_type": "code",
   "execution_count": 97,
   "metadata": {},
   "outputs": [
    {
     "data": {
      "text/plain": [
       "10-element Array{String,1}:\n",
       " \"O\"  \n",
       " \"O\"  \n",
       " \"O\"  \n",
       " \"O\"  \n",
       " \"O\"  \n",
       " \"O\"  \n",
       " \"O\"  \n",
       " \"LOC\"\n",
       " \"LOC\"\n",
       " \"O\"  "
      ]
     },
     "execution_count": 97,
     "metadata": {},
     "output_type": "execute_result"
    }
   ],
   "source": [
    "ner(\"Large Pink Red Blue ballons inside the Netaji Auditorium.\")"
   ]
  },
  {
   "cell_type": "code",
   "execution_count": 100,
   "metadata": {},
   "outputs": [
    {
     "data": {
      "text/plain": [
       "10-element Array{String,1}:\n",
       " \"O\"  \n",
       " \"O\"  \n",
       " \"O\"  \n",
       " \"O\"  \n",
       " \"O\"  \n",
       " \"O\"  \n",
       " \"PER\"\n",
       " \"O\"  \n",
       " \"LOC\"\n",
       " \"O\"  "
      ]
     },
     "execution_count": 100,
     "metadata": {},
     "output_type": "execute_result"
    }
   ],
   "source": [
    "ner(\"Large Pink Red Blue ballons with Nehru and Washington.\")"
   ]
  },
  {
   "cell_type": "code",
   "execution_count": 101,
   "metadata": {},
   "outputs": [
    {
     "data": {
      "text/plain": [
       "11-element Array{String,1}:\n",
       " \"O\"  \n",
       " \"O\"  \n",
       " \"O\"  \n",
       " \"O\"  \n",
       " \"O\"  \n",
       " \"O\"  \n",
       " \"PER\"\n",
       " \"O\"  \n",
       " \"PER\"\n",
       " \"PER\"\n",
       " \"O\"  "
      ]
     },
     "execution_count": 101,
     "metadata": {},
     "output_type": "execute_result"
    }
   ],
   "source": [
    "ner(\"Large Pink Red Blue ballons with Nehru and George Washington.\")"
   ]
  },
  {
   "cell_type": "code",
   "execution_count": null,
   "metadata": {},
   "outputs": [],
   "source": []
  }
 ],
 "metadata": {
  "kernelspec": {
   "display_name": "Julia 1.0.3",
   "language": "julia",
   "name": "julia-1.0"
  },
  "language_info": {
   "file_extension": ".jl",
   "mimetype": "application/julia",
   "name": "julia",
   "version": "1.0.3"
  }
 },
 "nbformat": 4,
 "nbformat_minor": 2
}
