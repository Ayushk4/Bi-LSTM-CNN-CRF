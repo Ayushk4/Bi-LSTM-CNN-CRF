{
 "cells": [
  {
   "cell_type": "code",
   "execution_count": 1,
   "metadata": {},
   "outputs": [
    {
     "data": {
      "text/plain": [
       "remove_ner_label_prefix (generic function with 1 method)"
      ]
     },
     "execution_count": 1,
     "metadata": {},
     "output_type": "execute_result"
    }
   ],
   "source": [
    "using MultiResolutionIterators, CorpusLoaders\n",
    "include(\"../src/ner.jl\")"
   ]
  },
  {
   "cell_type": "code",
   "execution_count": 36,
   "metadata": {},
   "outputs": [],
   "source": [
    "using LinearAlgebra, Statistics"
   ]
  },
  {
   "cell_type": "code",
   "execution_count": 6,
   "metadata": {
    "collapsed": true
   },
   "outputs": [
    {
     "data": {
      "text/plain": [
       "9418-element Array{Array{CorpusLoaders.GMBWord,1},1}:\n",
       " [GMBWord(\"O\", \"JJ\", \"Suspected\"), GMBWord(\"O\", \"JJ\", \"Islamist\"), GMBWord(\"O\", \"NNS\", \"rebels\"), GMBWord(\"O\", \"VBP\", \"have\"), GMBWord(\"O\", \"VBN\", \"fired\"), GMBWord(\"O\", \"NN\", \"mortar\"), GMBWord(\"O\", \"NNS\", \"shells\"), GMBWord(\"O\", \"IN\", \"at\"), GMBWord(\"O\", \"DT\", \"the\"), GMBWord(\"O\", \"NN\", \"palace\"), GMBWord(\"O\", \"VBN\", \"used\"), GMBWord(\"O\", \"IN\", \"by\"), GMBWord(\"Location\", \"NNP\", \"Somalia\"), GMBWord(\"O\", \"POS\", \"'s\"), GMBWord(\"O\", \"JJ\", \"interim\"), GMBWord(\"O\", \"NNP\", \"President\"), GMBWord(\"Person\", \"NNP\", \"Abdullahi\"), GMBWord(\"Person\", \"NNP\", \"Yusuf\"), GMBWord(\"Person\", \"NNP\", \"Ahmad\"), GMBWord(\"O\", \".\", \".\")]                    \n",
       " [GMBWord(\"O\", \"PRP\", \"It\"), GMBWord(\"O\", \"VBD\", \"was\"), GMBWord(\"O\", \"RB\", \"not\"), GMBWord(\"O\", \"RB\", \"immediately\"), GMBWord(\"O\", \"JJ\", \"clear\"), GMBWord(\"O\", \"IN\", \"if\"), GMBWord(\"O\", \"DT\", \"the\"), GMBWord(\"O\", \"NN\", \"president\"), GMBWord(\"O\", \"VBD\", \"was\"), GMBWord(\"O\", \"IN\", \"in\")  …  GMBWord(\"O\", \"WRB\", \"when\"), GMBWord(\"O\", \"DT\", \"the\"), GMBWord(\"O\", \"NN\", \"attack\"), GMBWord(\"O\", \"VBD\", \"occurred\"), GMBWord(\"O\", \"CC\", \"or\"), GMBWord(\"O\", \"IN\", \"if\"), GMBWord(\"O\", \"DT\", \"anyone\"), GMBWord(\"O\", \"VBD\", \"was\"), GMBWord(\"O\", \"VBN\", \"hurt\"), GMBWord(\"O\", \".\", \".\")]                                                                   \n",
       " [GMBWord(\"O\", \"JJ\", \"Local\"), GMBWord(\"O\", \"NN\", \"news\"), GMBWord(\"O\", \"NNS\", \"reports\"), GMBWord(\"O\", \"VBD\", \"said\"), GMBWord(\"O\", \"IN\", \"at\"), GMBWord(\"O\", \"JJS\", \"least\"), GMBWord(\"O\", \"CD\", \"five\"), GMBWord(\"O\", \"NN\", \"mortar\"), GMBWord(\"O\", \"NNS\", \"shells\"), GMBWord(\"O\", \"VBD\", \"hit\")  …  GMBWord(\"O\", \"CC\", \"and\"), GMBWord(\"O\", \"JJ\", \"other\"), GMBWord(\"O\", \"NNS\", \"mortars\"), GMBWord(\"O\", \"VBD\", \"were\"), GMBWord(\"O\", \"VBN\", \"fired\"), GMBWord(\"O\", \"RB\", \"elsewhere\"), GMBWord(\"O\", \"IN\", \"in\"), GMBWord(\"Location\", \"NNP\", \"Mogadishu\"), GMBWord(\"Timex\", \"NNP\", \"Wednesday\"), GMBWord(\"O\", \".\", \".\")]                                   \n",
       " [GMBWord(\"O\", \"DT\", \"The\"), GMBWord(\"O\", \"NNS\", \"attacks\"), GMBWord(\"O\", \"VBD\", \"occurred\"), GMBWord(\"O\", \"IN\", \"after\"), GMBWord(\"O\", \"DT\", \"the\"), GMBWord(\"O\", \"NN\", \"government\"), GMBWord(\"O\", \"VBD\", \"said\"), GMBWord(\"O\", \"PRP\", \"it\"), GMBWord(\"O\", \"MD\", \"will\"), GMBWord(\"O\", \"VB\", \"go\")  …  GMBWord(\"O\", \"CD\", \"1,300\"), GMBWord(\"O\", \"JJ\", \"Somali\"), GMBWord(\"O\", \"NNS\", \"elders\"), GMBWord(\"O\", \",\", \",\"), GMBWord(\"O\", \"NNS\", \"warlords\"), GMBWord(\"O\", \"CC\", \"and\"), GMBWord(\"O\", \"NNS\", \"politicians\"), GMBWord(\"O\", \"VBP\", \"are\"), GMBWord(\"O\", \"VBN\", \"invited\"), GMBWord(\"O\", \".\", \".\")]                                                 \n",
       " [GMBWord(\"O\", \"JJ\", \"Pakistani\"), GMBWord(\"O\", \"NNS\", \"officials\"), GMBWord(\"O\", \"VBP\", \"say\"), GMBWord(\"O\", \"JJ\", \"unidentified\"), GMBWord(\"O\", \"NNS\", \"gunmen\"), GMBWord(\"O\", \"VBP\", \"have\"), GMBWord(\"O\", \"VBN\", \"killed\"), GMBWord(\"O\", \"CD\", \"three\"), GMBWord(\"O\", \"NNS\", \"people\"), GMBWord(\"O\", \",\", \",\")  …  GMBWord(\"O\", \"NN\", \"minister\"), GMBWord(\"O\", \",\", \",\"), GMBWord(\"O\", \"IN\", \"in\"), GMBWord(\"O\", \"DT\", \"a\"), GMBWord(\"O\", \"JJ\", \"semi-autonomous\"), GMBWord(\"O\", \"JJ\", \"tribal\"), GMBWord(\"O\", \"NN\", \"region\"), GMBWord(\"O\", \"VBG\", \"bordering\"), GMBWord(\"O\", \"NNP\", \"Afghanistan\"), GMBWord(\"O\", \".\", \".\")]                             \n",
       " [GMBWord(\"O\", \"DT\", \"The\"), GMBWord(\"O\", \"NNS\", \"officials\"), GMBWord(\"O\", \"VBP\", \"say\"), GMBWord(\"O\", \"JJ\", \"prominent\"), GMBWord(\"O\", \"JJ\", \"tribal\"), GMBWord(\"O\", \"NN\", \"leader\"), GMBWord(\"Person\", \"NNP\", \"Malik\"), GMBWord(\"Person\", \"NNP\", \"Faridullah\"), GMBWord(\"Person\", \"NNP\", \"Khan\"), GMBWord(\"O\", \"VBD\", \"was\")  …  GMBWord(\"O\", \"PRP\\$\", \"his\"), GMBWord(\"O\", \"NN\", \"vehicle\"), GMBWord(\"O\", \"VBD\", \"was\"), GMBWord(\"O\", \"VBN\", \"ambushed\"), GMBWord(\"O\", \"IN\", \"in\"), GMBWord(\"O\", \"DT\", \"the\"), GMBWord(\"Location\", \"NNP\", \"Kani\"), GMBWord(\"Location\", \"NNP\", \"Wam\"), GMBWord(\"O\", \"NN\", \"area\"), GMBWord(\"O\", \".\", \".\")]                  \n",
       " [GMBWord(\"O\", \"PRP\\$\", \"His\"), GMBWord(\"O\", \"NN\", \"driver\"), GMBWord(\"O\", \"CC\", \"and\"), GMBWord(\"O\", \"DT\", \"a\"), GMBWord(\"O\", \"JJ\", \"tribal\"), GMBWord(\"O\", \"NN\", \"elder\"), GMBWord(\"O\", \"VBD\", \"were\"), GMBWord(\"O\", \"RB\", \"also\"), GMBWord(\"O\", \"VBN\", \"killed\"), GMBWord(\"O\", \".\", \".\")]                                                                                                                                                                                                                                                                                                                                                                   \n",
       " [GMBWord(\"O\", \"DT\", \"No\"), GMBWord(\"O\", \"NN\", \"one\"), GMBWord(\"O\", \"VBZ\", \"has\"), GMBWord(\"O\", \"VBN\", \"claimed\"), GMBWord(\"O\", \"NN\", \"responsibility\"), GMBWord(\"O\", \"IN\", \"for\"), GMBWord(\"O\", \"DT\", \"the\"), GMBWord(\"O\", \"NNS\", \"killings\"), GMBWord(\"O\", \".\", \".\")]                                                                                                                                                                                                                                                                                                                                                                                        \n",
       " [GMBWord(\"O\", \"DT\", \"The\"), GMBWord(\"O\", \"NN\", \"ambush\"), GMBWord(\"O\", \"VBD\", \"came\"), GMBWord(\"O\", \"DT\", \"a\"), GMBWord(\"O\", \"NN\", \"day\"), GMBWord(\"O\", \"IN\", \"after\"), GMBWord(\"O\", \"DT\", \"a\"), GMBWord(\"O\", \"NN\", \"commander\"), GMBWord(\"O\", \"IN\", \"of\"), GMBWord(\"O\", \"JJ\", \"Pakistani\")  …  GMBWord(\"O\", \"NN\", \"army\"), GMBWord(\"O\", \"VBZ\", \"has\"), GMBWord(\"O\", \"RB\", \"almost\"), GMBWord(\"O\", \"RB\", \"completely\"), GMBWord(\"O\", \"VBN\", \"eliminated\"), GMBWord(\"O\", \"NNS\", \"militants\"), GMBWord(\"O\", \"IN\", \"in\"), GMBWord(\"Location\", \"NNP\", \"South\"), GMBWord(\"Location\", \"NNP\", \"Waziristan\"), GMBWord(\"O\", \".\", \".\")]                                 \n",
       " [GMBWord(\"O\", \"DT\", \"The\"), GMBWord(\"O\", \"NN\", \"area\"), GMBWord(\"O\", \"VBD\", \"became\"), GMBWord(\"O\", \"DT\", \"a\"), GMBWord(\"O\", \"NN\", \"refuge\"), GMBWord(\"O\", \"IN\", \"for\"), GMBWord(\"O\", \"JJ\", \"many\"), GMBWord(\"Location\", \"NNP\", \"al-Qaida\"), GMBWord(\"O\", \"CC\", \"and\"), GMBWord(\"Location\", \"NNP\", \"Taleban\")  …  GMBWord(\"O\", \"DT\", \"the\"), GMBWord(\"Location\", \"NNP\", \"Taleban\"), GMBWord(\"O\", \"NN\", \"government\"), GMBWord(\"O\", \"VBD\", \"was\"), GMBWord(\"O\", \"VBN\", \"ousted\"), GMBWord(\"O\", \"IN\", \"in\"), GMBWord(\"Location\", \"NNP\", \"Afghanistan\"), GMBWord(\"O\", \"IN\", \"in\"), GMBWord(\"Timex\", \"CD\", \"2001\"), GMBWord(\"O\", \".\", \".\")]                       \n",
       " [GMBWord(\"Organization\", \"NNP\", \"U.S.\"), GMBWord(\"Organization\", \"NNP\", \"Army\"), GMBWord(\"O\", \"NNS\", \"officials\"), GMBWord(\"O\", \"VBD\", \"said\"), GMBWord(\"Timex\", \"NNP\", \"Wednesday\"), GMBWord(\"O\", \"IN\", \"that\"), GMBWord(\"O\", \"PRP\", \"they\"), GMBWord(\"O\", \"MD\", \"will\"), GMBWord(\"O\", \"RB\", \"not\"), GMBWord(\"O\", \"VB\", \"renew\")  …  GMBWord(\"O\", \"JJ\", \"logistical\"), GMBWord(\"O\", \"NN\", \"support\"), GMBWord(\"O\", \"TO\", \"to\"), GMBWord(\"Location\", \"NNP\", \"U.S.\"), GMBWord(\"O\", \"NNS\", \"troops\"), GMBWord(\"O\", \"IN\", \"in\"), GMBWord(\"Location\", \"NNP\", \"Iraq\"), GMBWord(\"O\", \"CC\", \"and\"), GMBWord(\"O\", \"RB\", \"elsewhere\"), GMBWord(\"O\", \".\", \".\")]         \n",
       " [GMBWord(\"Location\", \"NNP\", \"Halliburton\"), GMBWord(\"O\", \"VBZ\", \"has\"), GMBWord(\"O\", \"VBN\", \"been\"), GMBWord(\"O\", \"VBG\", \"providing\"), GMBWord(\"O\", \"DT\", \"a\"), GMBWord(\"O\", \"JJ\", \"long\"), GMBWord(\"O\", \"NN\", \"list\"), GMBWord(\"O\", \"IN\", \"of\"), GMBWord(\"O\", \"NNS\", \"services\"), GMBWord(\"O\", \",\", \",\")  …  GMBWord(\"O\", \"TO\", \"to\"), GMBWord(\"O\", \"NN\", \"communication\"), GMBWord(\"O\", \",\", \",\"), GMBWord(\"O\", \"IN\", \"for\"), GMBWord(\"O\", \"DT\", \"the\"), GMBWord(\"O\", \"NN\", \"military\"), GMBWord(\"O\", \"IN\", \"for\"), GMBWord(\"Timex\", \"JJ\", \"several\"), GMBWord(\"Timex\", \"NNS\", \"years\"), GMBWord(\"O\", \".\", \".\")]                                            \n",
       " [GMBWord(\"O\", \"NNS\", \"Critics\"), GMBWord(\"O\", \"IN\", \"of\"), GMBWord(\"Location\", \"NNP\", \"Halliburton\"), GMBWord(\"O\", \"VBP\", \"include\"), GMBWord(\"O\", \"NNS\", \"auditors\"), GMBWord(\"O\", \"CC\", \"and\"), GMBWord(\"O\", \"JJ\", \"congressional\"), GMBWord(\"O\", \"NNS\", \"Democrats\"), GMBWord(\"O\", \".\", \".\")]                                                                                                                                                                                                                                                                                                                                                              \n",
       " ⋮                                                                                                                                                                                                                                                                                                                                                                                                                                                                                                                                                                                                                                                             \n",
       " [GMBWord(\"Person\", \"NNP\", \"Jeff\"), GMBWord(\"Person\", \"NNP\", \"Swicord\"), GMBWord(\"O\", \"VBZ\", \"reports\"), GMBWord(\"O\", \"IN\", \"on\"), GMBWord(\"O\", \"CD\", \"one\"), GMBWord(\"O\", \"NN\", \"family\"), GMBWord(\"O\", \"IN\", \"in\"), GMBWord(\"O\", \"DT\", \"the\"), GMBWord(\"O\", \"JJ\", \"outer\"), GMBWord(\"O\", \"NNS\", \"suburbs\")  …  GMBWord(\"Location\", \"NNP\", \"Washington\"), GMBWord(\"Location\", \"NNP\", \"D.C.\"), GMBWord(\"O\", \"WDT\", \"that\"), GMBWord(\"O\", \"VBZ\", \"is\"), GMBWord(\"O\", \"VBG\", \"rethinking\"), GMBWord(\"O\", \"DT\", \"the\"), GMBWord(\"O\", \"NNS\", \"choices\"), GMBWord(\"O\", \"PRP\", \"they\"), GMBWord(\"O\", \"VBD\", \"made\"), GMBWord(\"O\", \".\", \".\")]                         \n",
       " [GMBWord(\"Location\", \"NNP\", \"Lebanon\"), GMBWord(\"O\", \"POS\", \"'s\"), GMBWord(\"O\", \"NN\", \"parliament\"), GMBWord(\"O\", \"VBZ\", \"has\"), GMBWord(\"O\", \"RB\", \"again\"), GMBWord(\"O\", \"VBN\", \"delayed\"), GMBWord(\"O\", \"VBG\", \"holding\"), GMBWord(\"O\", \"DT\", \"a\"), GMBWord(\"O\", \"NN\", \"session\"), GMBWord(\"O\", \"TO\", \"to\")  …  GMBWord(\"O\", \"NN\", \"president\"), GMBWord(\"O\", \",\", \",\"), GMBWord(\"O\", \"VBG\", \"postponing\"), GMBWord(\"O\", \"DT\", \"the\"), GMBWord(\"O\", \"NN\", \"vote\"), GMBWord(\"O\", \"IN\", \"for\"), GMBWord(\"Timex\", \"DT\", \"the\"), GMBWord(\"Timex\", \"JJ\", \"13th\"), GMBWord(\"Timex\", \"NN\", \"time\"), GMBWord(\"O\", \".\", \".\")]                                       \n",
       " [GMBWord(\"O\", \"NNP\", \"Speaker\"), GMBWord(\"Person\", \"NNP\", \"Nabih\"), GMBWord(\"Person\", \"NNP\", \"Berri\"), GMBWord(\"O\", \"VBD\", \"announced\"), GMBWord(\"Timex\", \"NNP\", \"Sunday\"), GMBWord(\"O\", \"DT\", \"the\"), GMBWord(\"O\", \"NN\", \"poll\"), GMBWord(\"O\", \",\", \",\"), GMBWord(\"O\", \"RB\", \"originally\"), GMBWord(\"O\", \"VBN\", \"scheduled\"), GMBWord(\"O\", \"IN\", \"for\"), GMBWord(\"Timex\", \"NNP\", \"Monday\"), GMBWord(\"O\", \",\", \",\"), GMBWord(\"O\", \"RB\", \"now\"), GMBWord(\"O\", \"MD\", \"will\"), GMBWord(\"O\", \"VB\", \"be\"), GMBWord(\"O\", \"VBN\", \"held\"), GMBWord(\"Timex\", \"NNP\", \"February\"), GMBWord(\"Timex\", \"CD\", \"11\"), GMBWord(\"O\", \".\", \".\")]                                 \n",
       " [GMBWord(\"Organization\", \"NNP\", \"Parliament\"), GMBWord(\"O\", \"POS\", \"'s\"), GMBWord(\"O\", \"NN\", \"ruling\"), GMBWord(\"O\", \"JJ\", \"pro-Western\"), GMBWord(\"O\", \"NN\", \"majority\"), GMBWord(\"O\", \"CC\", \"and\"), GMBWord(\"O\", \"JJ\", \"pro-Syrian\"), GMBWord(\"O\", \"NN\", \"opposition\"), GMBWord(\"O\", \"NNS\", \"factions\"), GMBWord(\"O\", \"VBP\", \"have\")  …  GMBWord(\"O\", \"NN\", \"plan\"), GMBWord(\"O\", \"TO\", \"to\"), GMBWord(\"O\", \"VB\", \"install\"), GMBWord(\"O\", \"NN\", \"army\"), GMBWord(\"O\", \"NN\", \"chief\"), GMBWord(\"Person\", \"NNP\", \"Michel\"), GMBWord(\"Person\", \"NNP\", \"Suleiman\"), GMBWord(\"O\", \"IN\", \"as\"), GMBWord(\"O\", \"NN\", \"president\"), GMBWord(\"O\", \".\", \".\")]         \n",
       " [GMBWord(\"O\", \"CC\", \"But\"), GMBWord(\"O\", \"DT\", \"the\"), GMBWord(\"O\", \"NNS\", \"factions\"), GMBWord(\"O\", \"VBP\", \"remain\"), GMBWord(\"O\", \"VBN\", \"divided\"), GMBWord(\"O\", \"IN\", \"over\"), GMBWord(\"O\", \"DT\", \"a\"), GMBWord(\"O\", \"JJ\", \"power-sharing\"), GMBWord(\"O\", \"NN\", \"deal\"), GMBWord(\"O\", \"IN\", \"in\"), GMBWord(\"O\", \"DT\", \"the\"), GMBWord(\"O\", \"JJ\", \"new\"), GMBWord(\"O\", \"NN\", \"government\"), GMBWord(\"O\", \".\", \".\")]                                                                                                                                                                                                                                        \n",
       " [GMBWord(\"Location\", \"NNP\", \"Tonga\"), GMBWord(\"O\", \":\", \"-\"), GMBWord(\"O\", \"JJ\", \"unique\"), GMBWord(\"O\", \"IN\", \"among\"), GMBWord(\"O\", \"NNP\", \"Pacific\"), GMBWord(\"O\", \"NNS\", \"nations\"), GMBWord(\"O\", \"IN\", \"-\"), GMBWord(\"O\", \"RB\", \"never\"), GMBWord(\"O\", \"RB\", \"completely\"), GMBWord(\"O\", \"VBD\", \"lost\"), GMBWord(\"O\", \"PRP\\$\", \"its\"), GMBWord(\"O\", \"JJ\", \"indigenous\"), GMBWord(\"O\", \"NN\", \"governance\"), GMBWord(\"O\", \".\", \".\")]                                                                                                                                                                                                                       \n",
       " [GMBWord(\"O\", \"DT\", \"The\"), GMBWord(\"O\", \"NNS\", \"archipelagos\"), GMBWord(\"O\", \"IN\", \"of\"), GMBWord(\"O\", \"LQU\", \"\\\"\"), GMBWord(\"O\", \"DT\", \"The\"), GMBWord(\"O\", \"NNP\", \"Friendly\"), GMBWord(\"O\", \"NNP\", \"Islands\"), GMBWord(\"O\", \"LQU\", \"\\\"\"), GMBWord(\"O\", \"VBD\", \"were\"), GMBWord(\"O\", \"VBN\", \"united\"), GMBWord(\"O\", \"IN\", \"into\"), GMBWord(\"O\", \"DT\", \"a\"), GMBWord(\"O\", \"JJ\", \"Polynesian\"), GMBWord(\"O\", \"NN\", \"kingdom\"), GMBWord(\"O\", \"IN\", \"in\"), GMBWord(\"Timex\", \"CD\", \"1845\"), GMBWord(\"O\", \".\", \".\")]                                                                                                                                              \n",
       " [GMBWord(\"Location\", \"NNP\", \"Tonga\"), GMBWord(\"O\", \"VBD\", \"became\"), GMBWord(\"O\", \"DT\", \"a\"), GMBWord(\"O\", \"JJ\", \"constitutional\"), GMBWord(\"O\", \"NN\", \"monarchy\"), GMBWord(\"O\", \"IN\", \"in\"), GMBWord(\"Timex\", \"CD\", \"1875\"), GMBWord(\"O\", \"CC\", \"and\"), GMBWord(\"O\", \"DT\", \"a\"), GMBWord(\"O\", \"JJ\", \"British\")  …  GMBWord(\"O\", \"NN\", \"protectorate\"), GMBWord(\"O\", \"CC\", \"and\"), GMBWord(\"O\", \"VBD\", \"joined\"), GMBWord(\"O\", \"DT\", \"the\"), GMBWord(\"Organization\", \"NNP\", \"Commonwealth\"), GMBWord(\"Organization\", \"IN\", \"of\"), GMBWord(\"Organization\", \"NNP\", \"Nations\"), GMBWord(\"O\", \"IN\", \"in\"), GMBWord(\"Timex\", \"CD\", \"1970\"), GMBWord(\"O\", \".\", \".\")]\n",
       " [GMBWord(\"Location\", \"NNP\", \"Tonga\"), GMBWord(\"O\", \"VBZ\", \"remains\"), GMBWord(\"O\", \"DT\", \"the\"), GMBWord(\"O\", \"JJ\", \"only\"), GMBWord(\"O\", \"NN\", \"monarchy\"), GMBWord(\"O\", \"IN\", \"in\"), GMBWord(\"O\", \"DT\", \"the\"), GMBWord(\"Location\", \"NNP\", \"Pacific\"), GMBWord(\"O\", \".\", \".\")]                                                                                                                                                                                                                                                                                                                                                                              \n",
       " [GMBWord(\"O\", \"NNP\", \"SOME\"), GMBWord(\"O\", \"NNP\", \"BOYS\"), GMBWord(\"O\", \",\", \",\"), GMBWord(\"O\", \"VBG\", \"playing\"), GMBWord(\"O\", \"IN\", \"near\"), GMBWord(\"O\", \"DT\", \"a\"), GMBWord(\"O\", \"NN\", \"pond\"), GMBWord(\"O\", \",\", \",\"), GMBWord(\"O\", \"VBD\", \"saw\"), GMBWord(\"O\", \"DT\", \"a\")  …  GMBWord(\"O\", \"DT\", \"the\"), GMBWord(\"O\", \"NN\", \"water\"), GMBWord(\"O\", \"CC\", \"and\"), GMBWord(\"O\", \"VBD\", \"began\"), GMBWord(\"O\", \"TO\", \"to\"), GMBWord(\"O\", \"VB\", \"pelt\"), GMBWord(\"O\", \"PRP\", \"them\"), GMBWord(\"O\", \"IN\", \"with\"), GMBWord(\"O\", \"NNS\", \"stones\"), GMBWord(\"O\", \".\", \".\")]                                                                                    \n",
       " [GMBWord(\"O\", \"PRP\", \"They\"), GMBWord(\"O\", \"VBD\", \"killed\"), GMBWord(\"O\", \"NN\", \"several\"), GMBWord(\"O\", \"IN\", \"of\"), GMBWord(\"O\", \"PRP\", \"them\"), GMBWord(\"O\", \",\", \",\"), GMBWord(\"O\", \"WRB\", \"when\"), GMBWord(\"O\", \"CD\", \"one\"), GMBWord(\"O\", \"IN\", \"of\"), GMBWord(\"O\", \"DT\", \"the\")  …  GMBWord(\"O\", \"NN\", \"sport\"), GMBWord(\"O\", \"TO\", \"to\"), GMBWord(\"O\", \"PRP\", \"you\"), GMBWord(\"O\", \",\", \",\"), GMBWord(\"O\", \"VBZ\", \"is\"), GMBWord(\"O\", \"NN\", \"death\"), GMBWord(\"O\", \"TO\", \"to\"), GMBWord(\"O\", \"PRP\", \"us\"), GMBWord(\"O\", \".\", \".\"), GMBWord(\"O\", \"LQU\", \"\\\"\")]                                                                                         \n",
       " [GMBWord(\"O\", \":\", \"-\"), GMBWord(\"O\", \"RQU\", \"\\\"\"), GMBWord(\"O\", \"CD\", \"One\"), GMBWord(\"O\", \"NN\", \"man\"), GMBWord(\"O\", \"POS\", \"'s\"), GMBWord(\"O\", \"NN\", \"pleasure\"), GMBWord(\"O\", \"MD\", \"may\"), GMBWord(\"O\", \"VB\", \"be\"), GMBWord(\"O\", \"DT\", \"another\"), GMBWord(\"O\", \"POS\", \"'s\"), GMBWord(\"O\", \"NN\", \"pain\"), GMBWord(\"O\", \".\", \".\"), GMBWord(\"O\", \"LQU\", \"\\\"\"), GMBWord(\"O\", \":\", \"-\")]                                                                                                                                                                                                                                                                    "
      ]
     },
     "execution_count": 6,
     "metadata": {},
     "output_type": "execute_result"
    }
   ],
   "source": [
    "dataset = flatten_levels(collect(CorpusLoaders.load(GMB())) , lvls(GMB, :document)) |> full_consolidate"
   ]
  },
  {
   "cell_type": "code",
   "execution_count": 8,
   "metadata": {
    "collapsed": true
   },
   "outputs": [
    {
     "data": {
      "text/plain": [
       "9418-element Array{Array{String,1},1}:\n",
       " [\"O\", \"O\", \"O\", \"O\", \"O\", \"O\", \"O\", \"O\", \"O\", \"O\", \"O\", \"O\", \"Location\", \"O\", \"O\", \"O\", \"Person\", \"Person\", \"Person\", \"O\"]                             \n",
       " [\"O\", \"O\", \"O\", \"O\", \"O\", \"O\", \"O\", \"O\", \"O\", \"O\"  …  \"O\", \"O\", \"O\", \"O\", \"O\", \"O\", \"O\", \"O\", \"O\", \"O\"]                                                \n",
       " [\"O\", \"O\", \"O\", \"O\", \"O\", \"O\", \"O\", \"O\", \"O\", \"O\"  …  \"O\", \"O\", \"O\", \"O\", \"O\", \"O\", \"O\", \"Location\", \"Timex\", \"O\"]                                     \n",
       " [\"O\", \"O\", \"O\", \"O\", \"O\", \"O\", \"O\", \"O\", \"O\", \"O\"  …  \"O\", \"O\", \"O\", \"O\", \"O\", \"O\", \"O\", \"O\", \"O\", \"O\"]                                                \n",
       " [\"O\", \"O\", \"O\", \"O\", \"O\", \"O\", \"O\", \"O\", \"O\", \"O\"  …  \"O\", \"O\", \"O\", \"O\", \"O\", \"O\", \"O\", \"O\", \"O\", \"O\"]                                                \n",
       " [\"O\", \"O\", \"O\", \"O\", \"O\", \"O\", \"Person\", \"Person\", \"Person\", \"O\"  …  \"O\", \"O\", \"O\", \"O\", \"O\", \"O\", \"Location\", \"Location\", \"O\", \"O\"]                   \n",
       " [\"O\", \"O\", \"O\", \"O\", \"O\", \"O\", \"O\", \"O\", \"O\", \"O\"]                                                                                                     \n",
       " [\"O\", \"O\", \"O\", \"O\", \"O\", \"O\", \"O\", \"O\", \"O\"]                                                                                                          \n",
       " [\"O\", \"O\", \"O\", \"O\", \"O\", \"O\", \"O\", \"O\", \"O\", \"O\"  …  \"O\", \"O\", \"O\", \"O\", \"O\", \"O\", \"O\", \"Location\", \"Location\", \"O\"]                                  \n",
       " [\"O\", \"O\", \"O\", \"O\", \"O\", \"O\", \"O\", \"Location\", \"O\", \"Location\"  …  \"O\", \"Location\", \"O\", \"O\", \"O\", \"O\", \"Location\", \"O\", \"Timex\", \"O\"]                \n",
       " [\"Organization\", \"Organization\", \"O\", \"O\", \"Timex\", \"O\", \"O\", \"O\", \"O\", \"O\"  …  \"O\", \"O\", \"O\", \"Location\", \"O\", \"O\", \"Location\", \"O\", \"O\", \"O\"]        \n",
       " [\"Location\", \"O\", \"O\", \"O\", \"O\", \"O\", \"O\", \"O\", \"O\", \"O\"  …  \"O\", \"O\", \"O\", \"O\", \"O\", \"O\", \"O\", \"Timex\", \"Timex\", \"O\"]                                 \n",
       " [\"O\", \"O\", \"Location\", \"O\", \"O\", \"O\", \"O\", \"O\", \"O\"]                                                                                                   \n",
       " ⋮                                                                                                                                                      \n",
       " [\"Person\", \"Person\", \"O\", \"O\", \"O\", \"O\", \"O\", \"O\", \"O\", \"O\"  …  \"Location\", \"Location\", \"O\", \"O\", \"O\", \"O\", \"O\", \"O\", \"O\", \"O\"]                        \n",
       " [\"Location\", \"O\", \"O\", \"O\", \"O\", \"O\", \"O\", \"O\", \"O\", \"O\"  …  \"O\", \"O\", \"O\", \"O\", \"O\", \"O\", \"Timex\", \"Timex\", \"Timex\", \"O\"]                             \n",
       " [\"O\", \"Person\", \"Person\", \"O\", \"Timex\", \"O\", \"O\", \"O\", \"O\", \"O\", \"O\", \"Timex\", \"O\", \"O\", \"O\", \"O\", \"O\", \"Timex\", \"Timex\", \"O\"]                         \n",
       " [\"Organization\", \"O\", \"O\", \"O\", \"O\", \"O\", \"O\", \"O\", \"O\", \"O\"  …  \"O\", \"O\", \"O\", \"O\", \"O\", \"Person\", \"Person\", \"O\", \"O\", \"O\"]                           \n",
       " [\"O\", \"O\", \"O\", \"O\", \"O\", \"O\", \"O\", \"O\", \"O\", \"O\", \"O\", \"O\", \"O\", \"O\"]                                                                                 \n",
       " [\"Location\", \"O\", \"O\", \"O\", \"O\", \"O\", \"O\", \"O\", \"O\", \"O\", \"O\", \"O\", \"O\", \"O\"]                                                                          \n",
       " [\"O\", \"O\", \"O\", \"O\", \"O\", \"O\", \"O\", \"O\", \"O\", \"O\", \"O\", \"O\", \"O\", \"O\", \"O\", \"Timex\", \"O\"]                                                              \n",
       " [\"Location\", \"O\", \"O\", \"O\", \"O\", \"O\", \"Timex\", \"O\", \"O\", \"O\"  …  \"O\", \"O\", \"O\", \"O\", \"Organization\", \"Organization\", \"Organization\", \"O\", \"Timex\", \"O\"]\n",
       " [\"Location\", \"O\", \"O\", \"O\", \"O\", \"O\", \"O\", \"Location\", \"O\"]                                                                                            \n",
       " [\"O\", \"O\", \"O\", \"O\", \"O\", \"O\", \"O\", \"O\", \"O\", \"O\"  …  \"O\", \"O\", \"O\", \"O\", \"O\", \"O\", \"O\", \"O\", \"O\", \"O\"]                                                \n",
       " [\"O\", \"O\", \"O\", \"O\", \"O\", \"O\", \"O\", \"O\", \"O\", \"O\"  …  \"O\", \"O\", \"O\", \"O\", \"O\", \"O\", \"O\", \"O\", \"O\", \"O\"]                                                \n",
       " [\"O\", \"O\", \"O\", \"O\", \"O\", \"O\", \"O\", \"O\", \"O\", \"O\", \"O\", \"O\", \"O\", \"O\"]                                                                                 "
      ]
     },
     "execution_count": 8,
     "metadata": {},
     "output_type": "execute_result"
    }
   ],
   "source": [
    "X = [word.(sentence) for sentence in dataset]\n",
    "Y = [CorpusLoaders.named_entity.(sentence) for sentence in dataset]"
   ]
  },
  {
   "cell_type": "code",
   "execution_count": 10,
   "metadata": {},
   "outputs": [
    {
     "data": {
      "text/plain": [
       "8-element Array{String,1}:\n",
       " \"O\"             \n",
       " \"Location\"      \n",
       " \"Person\"        \n",
       " \"Timex\"         \n",
       " \"Organization\"  \n",
       " \"Artifact\"      \n",
       " \"Event\"         \n",
       " \"Natural_Object\""
      ]
     },
     "execution_count": 10,
     "metadata": {},
     "output_type": "execute_result"
    }
   ],
   "source": [
    "unique(vcat(Y...))"
   ]
  },
  {
   "cell_type": "code",
   "execution_count": 11,
   "metadata": {
    "collapsed": true
   },
   "outputs": [
    {
     "data": {
      "text/plain": [
       "NERmodel{BiLSTM_CNN_CRF_Model{Conv{2,2,typeof(identity),TrackedArray{…,Array{Float32,4}},TrackedArray{…,Array{Float32,1}}},Array{Float32,2},Flux.Recur{Flux.LSTMCell{TrackedArray{…,Array{Float32,2}},TrackedArray{…,Array{Float32,1}}}},Dense{typeof(identity),TrackedArray{…,Array{Float32,2}},TrackedArray{…,Array{Float32,1}}},CRF{TrackedArray{…,Array{Float32,2}}},Array{Int64,2}}}(BiLSTM_CNN_CRF_Model{Conv{2,2,typeof(identity),TrackedArray{…,Array{Float32,4}},TrackedArray{…,Array{Float32,1}}},Array{Float32,2},Flux.Recur{Flux.LSTMCell{TrackedArray{…,Array{Float32,2}},TrackedArray{…,Array{Float32,1}}}},Dense{typeof(identity),TrackedArray{…,Array{Float32,2}},TrackedArray{…,Array{Float32,1}}},CRF{TrackedArray{…,Array{Float32,2}}},Array{Int64,2}}([\"ORG\", \"O\", \"MISC\", \"PER\", \"PER\", \"LOC\", \"ORG\", \"ORG\", \"PER\", \"PER\", \"MISC\", \"MISC\", \"MISC\", \"ORG\", \"LOC\", \"LOC\", \"LOC\"], Dict('w'=>81,'E'=>34,'7'=>22,'Z'=>55,']'=>57,'o'=>73,'B'=>31,'5'=>20,'h'=>66,'i'=>67…), Dict(\"newdigate\"=>164100,\"daufuskie\"=>254784,\"single-arm\"=>192007,\"titration\"=>117879,\"qajar\"=>66399,\"pinheiro\"=>38763,\"hospitalet\"=>282158,\"kennedale\"=>223560,\"tetracyclic\"=>353804,\"moher\"=>167242…), Conv((25, 3), 1=>30), Float32[0.880601 0.153612 … 0.86051 0.858812; 0.887304 0.898423 … 0.515943 0.00389232; … ; 0.517678 0.954239 … 0.178151 0.0856252; 0.269013 0.325978 … 0.435523 0.763729], Float32[-0.038194 -0.10767 … 0.513332 0.782205; -0.24487 0.11053 … 0.519824 0.431589; … ; 0.8278 0.45293 … 0.0792154 0.498268; 0.27062 0.082577 … 0.51087 0.674251], Recur(LSTMCell(130, 200)), Recur(LSTMCell(130, 200)), Dense(400, 19), CRF with 19 distinct tags (including START and STOP tags)., [-10000; -10000; … ; 0; -10000], 400001, 85))"
      ]
     },
     "execution_count": 11,
     "metadata": {},
     "output_type": "execute_result"
    }
   ],
   "source": [
    "ner = NERTagger()"
   ]
  },
  {
   "cell_type": "code",
   "execution_count": 78,
   "metadata": {},
   "outputs": [
    {
     "data": {
      "text/plain": [
       "try_outs (generic function with 1 method)"
      ]
     },
     "execution_count": 78,
     "metadata": {},
     "output_type": "execute_result"
    }
   ],
   "source": [
    "function try_outs(ner, x_in, y_in)\n",
    "    unique_labels = unique(ner.model.labels)\n",
    "    num_labels = length(unique_labels)\n",
    "    confusion_matrix = zeros(Int, (num_labels, num_labels))\n",
    "\n",
    "    for (x_seq, y_seq) in zip(x_in, y_in)\n",
    "        preds = ner(x_seq)\n",
    "\n",
    "        for (pred, logit) in zip(preds, y_seq)\n",
    "            pred == \"MISC\" && continue\n",
    "\n",
    "            if(logit == \"O\")\n",
    "                confusion_matrix[findfirst(x -> x==pred, unique_labels), findfirst(x -> x==\"O\", unique_labels)] += 1\n",
    "            elseif(logit == \"Location\")\n",
    "                confusion_matrix[findfirst(x -> x==pred, unique_labels), findfirst(x -> x==\"LOC\", unique_labels)] += 1\n",
    "            elseif(logit == \"Person\")\n",
    "                confusion_matrix[findfirst(x -> x==pred, unique_labels), findfirst(x -> x==\"PER\", unique_labels)] += 1\n",
    "            elseif(logit == \"Organization\")\n",
    "                confusion_matrix[findfirst(x -> x==pred, unique_labels), findfirst(x -> x==\"ORG\", unique_labels)] += 1\n",
    "            else\n",
    "                continue\n",
    "            end\n",
    "        end\n",
    "    end\n",
    "\n",
    "#     print(confusion_matrix)\n",
    "    s1 = sum(confusion_matrix, dims=2)\n",
    "    s2 = sum(confusion_matrix, dims=1)\n",
    "    dg = diag(confusion_matrix)\n",
    "    s1 = [s1[1:2]..., s1[4:5]...]\n",
    "    s2 = [s2[1:2]..., s2[4:5]...]\n",
    "    dg = [dg[1:2]..., dg[4:5]...]\n",
    "\n",
    "    a = mean(dg ./ s1)\n",
    "    b = mean(dg ./ s2)\n",
    "\n",
    "    println(\"Precision and recall are:\", a, \" \", b)\n",
    "    println(\"F1 is:\", (2 * a * b) / (a + b))\n",
    "end\n"
   ]
  },
  {
   "cell_type": "code",
   "execution_count": 79,
   "metadata": {},
   "outputs": [
    {
     "name": "stdout",
     "output_type": "stream",
     "text": [
      "Precision and recall are:0.8227857518580006 0.7660888458451726\n",
      "F1 is:0.7934257214885667\n"
     ]
    }
   ],
   "source": [
    "try_outs(ner, X, Y)"
   ]
  },
  {
   "cell_type": "code",
   "execution_count": 68,
   "metadata": {},
   "outputs": [
    {
     "data": {
      "text/plain": [
       "24-element Array{Tuple{String,String,String},1}:\n",
       " (\"MISC\", \"Pakistani\", \"O\")   \n",
       " (\"O\", \"officials\", \"O\")      \n",
       " (\"O\", \"say\", \"O\")            \n",
       " (\"O\", \"unidentified\", \"O\")   \n",
       " (\"O\", \"gunmen\", \"O\")         \n",
       " (\"O\", \"have\", \"O\")           \n",
       " (\"O\", \"killed\", \"O\")         \n",
       " (\"O\", \"three\", \"O\")          \n",
       " (\"O\", \"people\", \"O\")         \n",
       " (\"O\", \",\", \"O\")              \n",
       " (\"O\", \"including\", \"O\")      \n",
       " (\"O\", \"a\", \"O\")              \n",
       " (\"O\", \"former\", \"O\")         \n",
       " (\"O\", \"government\", \"O\")     \n",
       " (\"O\", \"minister\", \"O\")       \n",
       " (\"O\", \",\", \"O\")              \n",
       " (\"O\", \"in\", \"O\")             \n",
       " (\"O\", \"a\", \"O\")              \n",
       " (\"O\", \"semi-autonomous\", \"O\")\n",
       " (\"O\", \"tribal\", \"O\")         \n",
       " (\"O\", \"region\", \"O\")         \n",
       " (\"O\", \"bordering\", \"O\")      \n",
       " (\"LOC\", \"Afghanistan\", \"O\")  \n",
       " (\"O\", \".\", \"O\")              "
      ]
     },
     "execution_count": 68,
     "metadata": {},
     "output_type": "execute_result"
    }
   ],
   "source": [
    "i = 5\n",
    "collect(zip(ner(X[i]), X[i], Y[i]))"
   ]
  },
  {
   "cell_type": "code",
   "execution_count": 76,
   "metadata": {},
   "outputs": [
    {
     "data": {
      "text/plain": [
       "13-element Array{Tuple{String,String,String},1}:\n",
       " (\"O\", \"The\", \"O\")                  \n",
       " (\"MISC\", \"British\", \"Organization\")\n",
       " (\"O\", \"Embassy\", \"Organization\")   \n",
       " (\"O\", \"has\", \"O\")                  \n",
       " (\"O\", \"advised\", \"O\")              \n",
       " (\"MISC\", \"British\", \"Organization\")\n",
       " (\"O\", \"citizens\", \"O\")             \n",
       " (\"O\", \"to\", \"O\")                   \n",
       " (\"O\", \"avoid\", \"O\")                \n",
       " (\"O\", \"travel\", \"O\")               \n",
       " (\"O\", \"to\", \"O\")                   \n",
       " (\"LOC\", \"Khartoum\", \"Organization\")\n",
       " (\"O\", \".\", \"O\")                    "
      ]
     },
     "execution_count": 76,
     "metadata": {},
     "output_type": "execute_result"
    }
   ],
   "source": [
    "i = 95\n",
    "collect(zip(ner(X[i]), X[i], Y[i]))"
   ]
  },
  {
   "cell_type": "code",
   "execution_count": null,
   "metadata": {},
   "outputs": [],
   "source": []
  }
 ],
 "metadata": {
  "kernelspec": {
   "display_name": "Julia 1.0.3",
   "language": "julia",
   "name": "julia-1.0"
  },
  "language_info": {
   "file_extension": ".jl",
   "mimetype": "application/julia",
   "name": "julia",
   "version": "1.0.3"
  }
 },
 "nbformat": 4,
 "nbformat_minor": 2
}
