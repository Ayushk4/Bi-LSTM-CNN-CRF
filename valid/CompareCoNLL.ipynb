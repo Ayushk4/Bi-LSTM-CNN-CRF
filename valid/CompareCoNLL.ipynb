{
 "cells": [
  {
   "cell_type": "code",
   "execution_count": 1,
   "metadata": {},
   "outputs": [
    {
     "name": "stderr",
     "output_type": "stream",
     "text": [
      "┌ Info: Recompiling stale cache file /home/ayushk4/.julia/compiled/v1.0/TextAnalysis/5Mwet.ji for TextAnalysis [a2db99b7-8b79-58f8-94bf-bbc811eef33d]\n",
      "└ @ Base loading.jl:1190\n",
      "┌ Warning: Package TextAnalysis does not have Libdl in its dependencies:\n",
      "│ - If you have TextAnalysis checked out for development and have\n",
      "│   added Libdl as a dependency but haven't updated your primary\n",
      "│   environment's manifest file, try `Pkg.resolve()`.\n",
      "│ - Otherwise you may need to report an issue with TextAnalysis\n",
      "└ Loading Libdl into TextAnalysis from project dependency, future warnings for TextAnalysis are suppressed.\n"
     ]
    }
   ],
   "source": [
    "using TextAnalysis, CorpusLoaders, MultiResolutionIterators, LinearAlgebra"
   ]
  },
  {
   "cell_type": "code",
   "execution_count": 3,
   "metadata": {},
   "outputs": [
    {
     "data": {
      "text/plain": [
       "CorpusLoaders.Document{Array{Array{CorpusLoaders.NERTaggedWord,1},1},String}(\"test.txt\", Array{CorpusLoaders.NERTaggedWord,1}[[NERTaggedWord(\"O\", \"B-NP\", \"NN\", \"SOCCER\"), NERTaggedWord(\"O\", \"O\", \":\", \"-\"), NERTaggedWord(\"B-LOC\", \"B-NP\", \"NNP\", \"JAPAN\"), NERTaggedWord(\"O\", \"B-VP\", \"VB\", \"GET\"), NERTaggedWord(\"O\", \"B-NP\", \"NNP\", \"LUCKY\"), NERTaggedWord(\"O\", \"I-NP\", \"NNP\", \"WIN\"), NERTaggedWord(\"O\", \"O\", \",\", \",\"), NERTaggedWord(\"B-PER\", \"B-NP\", \"NNP\", \"CHINA\"), NERTaggedWord(\"O\", \"B-PP\", \"IN\", \"IN\"), NERTaggedWord(\"O\", \"B-NP\", \"DT\", \"SURPRISE\"), NERTaggedWord(\"O\", \"I-NP\", \"NN\", \"DEFEAT\"), NERTaggedWord(\"O\", \"O\", \".\", \".\")], [NERTaggedWord(\"B-PER\", \"B-NP\", \"NNP\", \"Nadim\"), NERTaggedWord(\"I-PER\", \"I-NP\", \"NNP\", \"Ladki\")], [NERTaggedWord(\"B-LOC\", \"B-NP\", \"NNP\", \"AL-AIN\"), NERTaggedWord(\"O\", \"O\", \",\", \",\"), NERTaggedWord(\"B-LOC\", \"B-NP\", \"NNP\", \"United\"), NERTaggedWord(\"I-LOC\", \"I-NP\", \"NNP\", \"Arab\"), NERTaggedWord(\"I-LOC\", \"I-NP\", \"NNPS\", \"Emirates\"), NERTaggedWord(\"O\", \"I-NP\", \"CD\", \"1996-12-06\")], [NERTaggedWord(\"B-LOC\", \"B-NP\", \"NNP\", \"Japan\"), NERTaggedWord(\"O\", \"B-VP\", \"VBD\", \"began\"), NERTaggedWord(\"O\", \"B-NP\", \"DT\", \"the\"), NERTaggedWord(\"O\", \"I-NP\", \"NN\", \"defence\"), NERTaggedWord(\"O\", \"B-PP\", \"IN\", \"of\"), NERTaggedWord(\"O\", \"B-NP\", \"PRP\\$\", \"their\"), NERTaggedWord(\"B-MISC\", \"I-NP\", \"JJ\", \"Asian\"), NERTaggedWord(\"I-MISC\", \"I-NP\", \"NNP\", \"Cup\"), NERTaggedWord(\"O\", \"I-NP\", \"NN\", \"title\"), NERTaggedWord(\"O\", \"B-PP\", \"IN\", \"with\")  …  NERTaggedWord(\"B-LOC\", \"B-NP\", \"NNP\", \"Syria\"), NERTaggedWord(\"O\", \"B-PP\", \"IN\", \"in\"), NERTaggedWord(\"O\", \"B-NP\", \"DT\", \"a\"), NERTaggedWord(\"O\", \"I-NP\", \"NNP\", \"Group\"), NERTaggedWord(\"O\", \"I-NP\", \"NNP\", \"C\"), NERTaggedWord(\"O\", \"I-NP\", \"NN\", \"championship\"), NERTaggedWord(\"O\", \"I-NP\", \"NN\", \"match\"), NERTaggedWord(\"O\", \"B-PP\", \"IN\", \"on\"), NERTaggedWord(\"O\", \"B-NP\", \"NNP\", \"Friday\"), NERTaggedWord(\"O\", \"O\", \".\", \".\")], [NERTaggedWord(\"O\", \"O\", \"CC\", \"But\"), NERTaggedWord(\"B-LOC\", \"B-NP\", \"NNP\", \"China\"), NERTaggedWord(\"O\", \"B-VP\", \"VBD\", \"saw\"), NERTaggedWord(\"O\", \"B-NP\", \"PRP\\$\", \"their\"), NERTaggedWord(\"O\", \"I-NP\", \"NN\", \"luck\"), NERTaggedWord(\"O\", \"B-VP\", \"VB\", \"desert\"), NERTaggedWord(\"O\", \"B-NP\", \"PRP\", \"them\"), NERTaggedWord(\"O\", \"B-PP\", \"IN\", \"in\"), NERTaggedWord(\"O\", \"B-NP\", \"DT\", \"the\"), NERTaggedWord(\"O\", \"I-NP\", \"NN\", \"second\")  …  NERTaggedWord(\"O\", \"B-VP\", \"VBG\", \"crashing\"), NERTaggedWord(\"O\", \"B-PP\", \"TO\", \"to\"), NERTaggedWord(\"O\", \"B-NP\", \"DT\", \"a\"), NERTaggedWord(\"O\", \"I-NP\", \"NN\", \"surprise\"), NERTaggedWord(\"O\", \"I-NP\", \"CD\", \"2-0\"), NERTaggedWord(\"O\", \"I-NP\", \"NN\", \"defeat\"), NERTaggedWord(\"O\", \"B-PP\", \"TO\", \"to\"), NERTaggedWord(\"O\", \"B-NP\", \"NNS\", \"newcomers\"), NERTaggedWord(\"B-LOC\", \"I-NP\", \"NNP\", \"Uzbekistan\"), NERTaggedWord(\"O\", \"O\", \".\", \".\")], [NERTaggedWord(\"B-LOC\", \"B-NP\", \"NNP\", \"China\"), NERTaggedWord(\"O\", \"B-VP\", \"VBD\", \"controlled\"), NERTaggedWord(\"O\", \"B-NP\", \"JJS\", \"most\"), NERTaggedWord(\"O\", \"B-PP\", \"IN\", \"of\"), NERTaggedWord(\"O\", \"B-NP\", \"DT\", \"the\"), NERTaggedWord(\"O\", \"I-NP\", \"NN\", \"match\"), NERTaggedWord(\"O\", \"O\", \"CC\", \"and\"), NERTaggedWord(\"O\", \"B-VP\", \"VBD\", \"saw\"), NERTaggedWord(\"O\", \"B-NP\", \"JJ\", \"several\"), NERTaggedWord(\"O\", \"I-NP\", \"NNS\", \"chances\")  …  NERTaggedWord(\"O\", \"B-NP\", \"DT\", \"the\"), NERTaggedWord(\"O\", \"I-NP\", \"VBG\", \"advancing\"), NERTaggedWord(\"B-MISC\", \"I-NP\", \"JJ\", \"Chinese\"), NERTaggedWord(\"O\", \"I-NP\", \"NN\", \"keeper\"), NERTaggedWord(\"O\", \"O\", \"CC\", \"and\"), NERTaggedWord(\"O\", \"B-PP\", \"IN\", \"into\"), NERTaggedWord(\"O\", \"B-NP\", \"DT\", \"an\"), NERTaggedWord(\"O\", \"I-NP\", \"JJ\", \"empty\"), NERTaggedWord(\"O\", \"I-NP\", \"NN\", \"net\"), NERTaggedWord(\"O\", \"O\", \".\", \".\")], [NERTaggedWord(\"B-PER\", \"B-NP\", \"NNP\", \"Oleg\"), NERTaggedWord(\"I-PER\", \"I-NP\", \"NNP\", \"Shatskiku\"), NERTaggedWord(\"O\", \"B-VP\", \"VBD\", \"made\"), NERTaggedWord(\"O\", \"B-ADJP\", \"JJ\", \"sure\"), NERTaggedWord(\"O\", \"B-PP\", \"IN\", \"of\"), NERTaggedWord(\"O\", \"B-NP\", \"DT\", \"the\"), NERTaggedWord(\"O\", \"B-VP\", \"VBP\", \"win\"), NERTaggedWord(\"O\", \"B-PP\", \"IN\", \"in\"), NERTaggedWord(\"O\", \"B-NP\", \"NN\", \"injury\"), NERTaggedWord(\"O\", \"I-NP\", \"NN\", \"time\")  …  NERTaggedWord(\"O\", \"I-NP\", \"JJ\", \"unstoppable\"), NERTaggedWord(\"O\", \"B-VP\", \"VBD\", \"left\"), NERTaggedWord(\"O\", \"B-NP\", \"NN\", \"foot\"), NERTaggedWord(\"O\", \"I-NP\", \"NN\", \"shot\"), NERTaggedWord(\"O\", \"B-PP\", \"IN\", \"from\"), NERTaggedWord(\"O\", \"B-NP\", \"RB\", \"just\"), NERTaggedWord(\"O\", \"B-PP\", \"IN\", \"outside\"), NERTaggedWord(\"O\", \"B-NP\", \"DT\", \"the\"), NERTaggedWord(\"O\", \"I-NP\", \"NN\", \"area\"), NERTaggedWord(\"O\", \"O\", \".\", \".\")], [NERTaggedWord(\"O\", \"B-NP\", \"DT\", \"The\"), NERTaggedWord(\"O\", \"I-NP\", \"JJ\", \"former\"), NERTaggedWord(\"B-MISC\", \"I-NP\", \"JJ\", \"Soviet\"), NERTaggedWord(\"O\", \"I-NP\", \"NN\", \"republic\"), NERTaggedWord(\"O\", \"B-VP\", \"VBD\", \"was\"), NERTaggedWord(\"O\", \"I-VP\", \"VBG\", \"playing\"), NERTaggedWord(\"O\", \"B-PP\", \"IN\", \"in\"), NERTaggedWord(\"O\", \"B-NP\", \"DT\", \"an\"), NERTaggedWord(\"B-MISC\", \"I-NP\", \"NNP\", \"Asian\"), NERTaggedWord(\"I-MISC\", \"I-NP\", \"NNP\", \"Cup\"), NERTaggedWord(\"O\", \"I-NP\", \"NNS\", \"finals\"), NERTaggedWord(\"O\", \"I-NP\", \"NN\", \"tie\"), NERTaggedWord(\"O\", \"B-PP\", \"IN\", \"for\"), NERTaggedWord(\"O\", \"B-NP\", \"DT\", \"the\"), NERTaggedWord(\"O\", \"I-NP\", \"JJ\", \"first\"), NERTaggedWord(\"O\", \"I-NP\", \"NN\", \"time\"), NERTaggedWord(\"O\", \"O\", \".\", \".\")], [NERTaggedWord(\"O\", \"B-PP\", \"IN\", \"Despite\"), NERTaggedWord(\"O\", \"B-VP\", \"VBG\", \"winning\"), NERTaggedWord(\"O\", \"B-NP\", \"DT\", \"the\"), NERTaggedWord(\"B-MISC\", \"I-NP\", \"JJ\", \"Asian\"), NERTaggedWord(\"I-MISC\", \"I-NP\", \"NNPS\", \"Games\"), NERTaggedWord(\"O\", \"I-NP\", \"NN\", \"title\"), NERTaggedWord(\"O\", \"B-NP\", \"CD\", \"two\"), NERTaggedWord(\"O\", \"I-NP\", \"NNS\", \"years\"), NERTaggedWord(\"O\", \"B-ADVP\", \"RB\", \"ago\"), NERTaggedWord(\"O\", \"O\", \",\", \",\"), NERTaggedWord(\"B-LOC\", \"B-NP\", \"NNP\", \"Uzbekistan\"), NERTaggedWord(\"O\", \"B-VP\", \"VBP\", \"are\"), NERTaggedWord(\"O\", \"B-PP\", \"IN\", \"in\"), NERTaggedWord(\"O\", \"B-NP\", \"DT\", \"the\"), NERTaggedWord(\"O\", \"I-NP\", \"NNS\", \"finals\"), NERTaggedWord(\"O\", \"B-SBAR\", \"IN\", \"as\"), NERTaggedWord(\"O\", \"B-NP\", \"NNS\", \"outsiders\"), NERTaggedWord(\"O\", \"O\", \".\", \".\")], [NERTaggedWord(\"O\", \"B-NP\", \"CD\", \"Two\"), NERTaggedWord(\"O\", \"I-NP\", \"NNS\", \"goals\"), NERTaggedWord(\"O\", \"B-PP\", \"IN\", \"from\"), NERTaggedWord(\"O\", \"B-NP\", \"JJ\", \"defensive\"), NERTaggedWord(\"O\", \"I-NP\", \"NNS\", \"errors\"), NERTaggedWord(\"O\", \"B-PP\", \"IN\", \"in\"), NERTaggedWord(\"O\", \"B-NP\", \"DT\", \"the\"), NERTaggedWord(\"O\", \"I-NP\", \"JJ\", \"last\"), NERTaggedWord(\"O\", \"I-NP\", \"CD\", \"six\"), NERTaggedWord(\"O\", \"I-NP\", \"NNS\", \"minutes\")  …  NERTaggedWord(\"O\", \"B-NP\", \"DT\", \"all\"), NERTaggedWord(\"O\", \"I-NP\", \"CD\", \"three\"), NERTaggedWord(\"O\", \"I-NP\", \"NNS\", \"points\"), NERTaggedWord(\"O\", \"B-PP\", \"IN\", \"from\"), NERTaggedWord(\"O\", \"B-NP\", \"PRP\\$\", \"their\"), NERTaggedWord(\"O\", \"I-NP\", \"NN\", \"opening\"), NERTaggedWord(\"O\", \"I-NP\", \"NN\", \"meeting\"), NERTaggedWord(\"O\", \"B-PP\", \"IN\", \"against\"), NERTaggedWord(\"B-LOC\", \"B-NP\", \"NNP\", \"Syria\"), NERTaggedWord(\"O\", \"O\", \".\", \".\")]  …  [NERTaggedWord(\"B-LOC\", \"B-NP\", \"NNP\", \"DUBLIN\"), NERTaggedWord(\"O\", \"I-NP\", \"CD\", \"1996-12-07\")], [NERTaggedWord(\"B-PER\", \"B-NP\", \"NNP\", \"Jack\"), NERTaggedWord(\"I-PER\", \"I-NP\", \"NNP\", \"Charlton\"), NERTaggedWord(\"O\", \"B-NP\", \"POS\", \"'s\"), NERTaggedWord(\"O\", \"I-NP\", \"NN\", \"relationship\"), NERTaggedWord(\"O\", \"B-PP\", \"IN\", \"with\"), NERTaggedWord(\"O\", \"B-NP\", \"DT\", \"the\"), NERTaggedWord(\"O\", \"I-NP\", \"NNS\", \"people\"), NERTaggedWord(\"O\", \"B-PP\", \"IN\", \"of\"), NERTaggedWord(\"B-LOC\", \"B-NP\", \"NNP\", \"Ireland\"), NERTaggedWord(\"O\", \"B-VP\", \"VBD\", \"was\")  …  NERTaggedWord(\"O\", \"B-NP\", \"DT\", \"the\"), NERTaggedWord(\"B-MISC\", \"I-NP\", \"NNP\", \"Englishman\"), NERTaggedWord(\"O\", \"B-VP\", \"VBD\", \"was\"), NERTaggedWord(\"O\", \"I-VP\", \"RB\", \"officially\"), NERTaggedWord(\"O\", \"I-VP\", \"VBD\", \"declared\"), NERTaggedWord(\"O\", \"B-NP\", \"CD\", \"one\"), NERTaggedWord(\"O\", \"B-PP\", \"IN\", \"of\"), NERTaggedWord(\"O\", \"B-NP\", \"PRP\\$\", \"their\"), NERTaggedWord(\"O\", \"I-NP\", \"JJ\", \"own\"), NERTaggedWord(\"O\", \"O\", \".\", \".\")], [NERTaggedWord(\"B-PER\", \"B-ADJP\", \"JJ\", \"Charlton\"), NERTaggedWord(\"O\", \"O\", \",\", \",\"), NERTaggedWord(\"O\", \"B-NP\", \"CD\", \"61\"), NERTaggedWord(\"O\", \"O\", \",\", \",\"), NERTaggedWord(\"O\", \"O\", \"CC\", \"and\"), NERTaggedWord(\"O\", \"B-NP\", \"PRP\\$\", \"his\"), NERTaggedWord(\"O\", \"I-NP\", \"NN\", \"wife\"), NERTaggedWord(\"O\", \"O\", \",\", \",\"), NERTaggedWord(\"B-PER\", \"B-NP\", \"NNP\", \"Peggy\"), NERTaggedWord(\"O\", \"O\", \",\", \",\")  …  NERTaggedWord(\"O\", \"B-PP\", \"IN\", \"of\"), NERTaggedWord(\"B-PER\", \"B-NP\", \"NNP\", \"Charlton\"), NERTaggedWord(\"O\", \"B-NP\", \"POS\", \"'s\"), NERTaggedWord(\"O\", \"I-NP\", \"NNS\", \"achievements\"), NERTaggedWord(\"O\", \"B-PP\", \"IN\", \"as\"), NERTaggedWord(\"O\", \"B-NP\", \"DT\", \"the\"), NERTaggedWord(\"O\", \"I-NP\", \"JJ\", \"national\"), NERTaggedWord(\"O\", \"I-NP\", \"NN\", \"soccer\"), NERTaggedWord(\"O\", \"I-NP\", \"NN\", \"manager\"), NERTaggedWord(\"O\", \"O\", \".\", \".\")], [NERTaggedWord(\"O\", \"O\", \"\\\"\", \"\\\"\"), NERTaggedWord(\"O\", \"B-NP\", \"DT\", \"The\"), NERTaggedWord(\"O\", \"I-NP\", \"NNS\", \"years\"), NERTaggedWord(\"O\", \"B-NP\", \"PRP\", \"I\"), NERTaggedWord(\"O\", \"B-VP\", \"VBD\", \"spent\"), NERTaggedWord(\"O\", \"B-PP\", \"IN\", \"as\"), NERTaggedWord(\"O\", \"B-NP\", \"NN\", \"manager\"), NERTaggedWord(\"O\", \"B-PP\", \"IN\", \"of\"), NERTaggedWord(\"O\", \"B-NP\", \"DT\", \"the\"), NERTaggedWord(\"B-LOC\", \"I-NP\", \"NNP\", \"Republic\"), NERTaggedWord(\"I-LOC\", \"B-PP\", \"IN\", \"of\"), NERTaggedWord(\"I-LOC\", \"B-NP\", \"NNP\", \"Ireland\"), NERTaggedWord(\"O\", \"B-VP\", \"VBD\", \"were\"), NERTaggedWord(\"O\", \"B-NP\", \"DT\", \"the\"), NERTaggedWord(\"O\", \"I-NP\", \"JJS\", \"best\"), NERTaggedWord(\"O\", \"I-NP\", \"NNS\", \"years\"), NERTaggedWord(\"O\", \"B-PP\", \"IN\", \"of\"), NERTaggedWord(\"O\", \"B-NP\", \"PRP\\$\", \"my\"), NERTaggedWord(\"O\", \"I-NP\", \"NN\", \"life\"), NERTaggedWord(\"O\", \"O\", \".\", \".\")], [NERTaggedWord(\"O\", \"B-NP\", \"PRP\", \"It\"), NERTaggedWord(\"O\", \"B-NP\", \"DT\", \"all\"), NERTaggedWord(\"O\", \"B-VP\", \"VBN\", \"culminated\"), NERTaggedWord(\"O\", \"B-PP\", \"IN\", \"in\"), NERTaggedWord(\"O\", \"B-NP\", \"DT\", \"the\"), NERTaggedWord(\"O\", \"I-NP\", \"NN\", \"fact\"), NERTaggedWord(\"O\", \"B-SBAR\", \"IN\", \"that\"), NERTaggedWord(\"O\", \"B-NP\", \"PRP\", \"I\"), NERTaggedWord(\"O\", \"B-ADVP\", \"RB\", \"now\"), NERTaggedWord(\"O\", \"B-VP\", \"VBP\", \"have\"), NERTaggedWord(\"O\", \"B-NP\", \"NNS\", \"lots\"), NERTaggedWord(\"O\", \"B-PP\", \"IN\", \"of\"), NERTaggedWord(\"O\", \"B-NP\", \"JJ\", \"great\"), NERTaggedWord(\"O\", \"I-NP\", \",\", \",\"), NERTaggedWord(\"O\", \"I-NP\", \"JJ\", \"great\"), NERTaggedWord(\"O\", \"I-NP\", \"NNS\", \"friends\"), NERTaggedWord(\"O\", \"B-PP\", \"IN\", \"in\"), NERTaggedWord(\"B-LOC\", \"B-NP\", \"NNP\", \"Ireland\"), NERTaggedWord(\"O\", \"O\", \".\", \".\")], [NERTaggedWord(\"O\", \"B-NP\", \"DT\", \"That\"), NERTaggedWord(\"O\", \"B-VP\", \"VBZ\", \"is\"), NERTaggedWord(\"O\", \"B-ADVP\", \"WRB\", \"why\"), NERTaggedWord(\"O\", \"B-NP\", \"DT\", \"this\"), NERTaggedWord(\"O\", \"B-VP\", \"VBZ\", \"is\"), NERTaggedWord(\"O\", \"B-ADJP\", \"RB\", \"so\"), NERTaggedWord(\"O\", \"I-ADJP\", \"JJ\", \"emotional\"), NERTaggedWord(\"O\", \"B-NP\", \"DT\", \"a\"), NERTaggedWord(\"O\", \"I-NP\", \"NN\", \"night\"), NERTaggedWord(\"O\", \"B-PP\", \"IN\", \"for\"), NERTaggedWord(\"O\", \"B-NP\", \"PRP\", \"me\"), NERTaggedWord(\"O\", \"O\", \",\", \",\"), NERTaggedWord(\"O\", \"O\", \"\\\"\", \"\\\"\"), NERTaggedWord(\"B-PER\", \"B-NP\", \"NNP\", \"Charlton\"), NERTaggedWord(\"O\", \"B-VP\", \"VBD\", \"said\"), NERTaggedWord(\"O\", \"O\", \".\", \".\")], [NERTaggedWord(\"O\", \"O\", \"\\\"\", \"\\\"\"), NERTaggedWord(\"O\", \"B-NP\", \"PRP\", \"It\"), NERTaggedWord(\"O\", \"B-VP\", \"VBD\", \"was\"), NERTaggedWord(\"O\", \"B-NP\", \"DT\", \"the\"), NERTaggedWord(\"O\", \"I-NP\", \"NN\", \"joy\"), NERTaggedWord(\"O\", \"B-SBAR\", \"IN\", \"that\"), NERTaggedWord(\"O\", \"B-NP\", \"PRP\", \"we\"), NERTaggedWord(\"O\", \"B-NP\", \"DT\", \"all\"), NERTaggedWord(\"O\", \"B-VP\", \"VBD\", \"had\"), NERTaggedWord(\"O\", \"B-PP\", \"IN\", \"over\")  …  NERTaggedWord(\"O\", \"O\", \",\", \",\"), NERTaggedWord(\"O\", \"B-SBAR\", \"IN\", \"that\"), NERTaggedWord(\"O\", \"B-NP\", \"PRP\", \"I\"), NERTaggedWord(\"O\", \"B-NP\", \"NN\", \"treasure\"), NERTaggedWord(\"O\", \"I-NP\", \"JJS\", \"most\"), NERTaggedWord(\"O\", \"O\", \",\", \",\"), NERTaggedWord(\"O\", \"O\", \"\\\"\", \"\\\"\"), NERTaggedWord(\"O\", \"B-NP\", \"PRP\", \"he\"), NERTaggedWord(\"O\", \"B-VP\", \"VBD\", \"added\"), NERTaggedWord(\"O\", \"O\", \".\", \".\")], [NERTaggedWord(\"B-PER\", \"B-NP\", \"NNP\", \"Charlton\"), NERTaggedWord(\"O\", \"B-VP\", \"VBD\", \"managed\"), NERTaggedWord(\"B-LOC\", \"B-NP\", \"NNP\", \"Ireland\"), NERTaggedWord(\"O\", \"B-PP\", \"IN\", \"for\"), NERTaggedWord(\"O\", \"B-NP\", \"CD\", \"93\"), NERTaggedWord(\"O\", \"I-NP\", \"NNS\", \"matches\"), NERTaggedWord(\"O\", \"O\", \",\", \",\"), NERTaggedWord(\"O\", \"B-PP\", \"IN\", \"during\"), NERTaggedWord(\"O\", \"B-NP\", \"WDT\", \"which\"), NERTaggedWord(\"O\", \"I-NP\", \"NN\", \"time\")  …  NERTaggedWord(\"O\", \"B-NP\", \"RB\", \"almost\"), NERTaggedWord(\"O\", \"I-NP\", \"CD\", \"10\"), NERTaggedWord(\"O\", \"I-NP\", \"NNS\", \"years\"), NERTaggedWord(\"O\", \"B-SBAR\", \"IN\", \"until\"), NERTaggedWord(\"O\", \"B-NP\", \"PRP\", \"he\"), NERTaggedWord(\"O\", \"B-VP\", \"VBD\", \"resigned\"), NERTaggedWord(\"O\", \"B-PP\", \"IN\", \"in\"), NERTaggedWord(\"O\", \"B-NP\", \"NNP\", \"December\"), NERTaggedWord(\"O\", \"I-NP\", \"CD\", \"1995\"), NERTaggedWord(\"O\", \"O\", \".\", \".\")], [NERTaggedWord(\"O\", \"B-NP\", \"PRP\", \"He\"), NERTaggedWord(\"O\", \"B-VP\", \"VBD\", \"guided\"), NERTaggedWord(\"B-LOC\", \"B-NP\", \"NNP\", \"Ireland\"), NERTaggedWord(\"O\", \"B-VP\", \"TO\", \"to\"), NERTaggedWord(\"O\", \"B-NP\", \"CD\", \"two\"), NERTaggedWord(\"O\", \"I-NP\", \"JJ\", \"successive\"), NERTaggedWord(\"B-MISC\", \"I-NP\", \"NNP\", \"World\"), NERTaggedWord(\"I-MISC\", \"I-NP\", \"NNP\", \"Cup\"), NERTaggedWord(\"O\", \"I-NP\", \"NNS\", \"finals\"), NERTaggedWord(\"O\", \"I-NP\", \"NNS\", \"tournaments\")  …  NERTaggedWord(\"O\", \"B-NP\", \"DT\", \"a\"), NERTaggedWord(\"O\", \"I-NP\", \"JJ\", \"well-fancied\"), NERTaggedWord(\"B-LOC\", \"I-NP\", \"NNP\", \"England\"), NERTaggedWord(\"O\", \"I-NP\", \"NN\", \"team\"), NERTaggedWord(\"O\", \"I-NP\", \"CD\", \"1-0\"), NERTaggedWord(\"O\", \"B-PP\", \"IN\", \"in\"), NERTaggedWord(\"O\", \"B-NP\", \"PRP\\$\", \"their\"), NERTaggedWord(\"O\", \"I-NP\", \"NN\", \"group\"), NERTaggedWord(\"O\", \"I-NP\", \"NN\", \"qualifier\"), NERTaggedWord(\"O\", \"O\", \".\", \".\")], [NERTaggedWord(\"O\", \"B-NP\", \"DT\", \"The\"), NERTaggedWord(\"O\", \"I-NP\", \"JJ\", \"lanky\"), NERTaggedWord(\"O\", \"I-NP\", \"JJ\", \"former\"), NERTaggedWord(\"B-ORG\", \"I-NP\", \"NNP\", \"Leeds\"), NERTaggedWord(\"I-ORG\", \"I-NP\", \"NNP\", \"United\"), NERTaggedWord(\"O\", \"I-NP\", \"NN\", \"defender\"), NERTaggedWord(\"O\", \"B-VP\", \"VBD\", \"did\"), NERTaggedWord(\"O\", \"I-VP\", \"RB\", \"not\"), NERTaggedWord(\"O\", \"I-VP\", \"VB\", \"make\"), NERTaggedWord(\"O\", \"B-NP\", \"PRP\\$\", \"his\")  …  NERTaggedWord(\"I-MISC\", \"I-NP\", \"NNP\", \"Cup\"), NERTaggedWord(\"O\", \"B-NP\", \"JJ\", \"winning\"), NERTaggedWord(\"O\", \"I-NP\", \"NN\", \"team\"), NERTaggedWord(\"O\", \"B-PP\", \"IN\", \"with\"), NERTaggedWord(\"O\", \"B-NP\", \"PRP\\$\", \"his\"), NERTaggedWord(\"O\", \"I-NP\", \"JJR\", \"younger\"), NERTaggedWord(\"O\", \"I-NP\", \"NN\", \"brother\"), NERTaggedWord(\"O\", \"O\", \",\", \",\"), NERTaggedWord(\"B-PER\", \"B-NP\", \"NNP\", \"Bobby\"), NERTaggedWord(\"O\", \"O\", \".\", \".\")]])"
      ]
     },
     "execution_count": 3,
     "metadata": {},
     "output_type": "execute_result"
    }
   ],
   "source": [
    "test_set = CorpusLoaders.load(CoNLL(), \"test\") # test set\n",
    "test_dataset = flatten_levels(test_set, lvls(CoNLL, :document)) |> full_consolidate\n",
    "\n",
    "function obtain_X_Y(dataset)\n",
    "    X = [CorpusLoaders.word.(sent) for sent in dataset]\n",
    "    Y = [TextAnalysis.remove_ner_label_prefix.(CorpusLoaders.named_entity.(sent)) for sent in dataset]\n",
    "    return X, Y\n",
    "end\n",
    "\n",
    "X, Y = obtain_X_Y(test_dataset)"
   ]
  },
  {
   "cell_type": "code",
   "execution_count": 110,
   "metadata": {},
   "outputs": [
    {
     "data": {
      "text/plain": [
       "eval_ner_tagger (generic function with 2 methods)"
      ]
     },
     "execution_count": 110,
     "metadata": {},
     "output_type": "execute_result"
    }
   ],
   "source": [
    "ner = NERTagger()\n",
    "\n",
    "function eval_ner_tagger(ner_m, x_seq) \n",
    "    ner_m(x_seq)\n",
    "end\n"
   ]
  },
  {
   "cell_type": "code",
   "execution_count": 111,
   "metadata": {},
   "outputs": [
    {
     "data": {
      "text/plain": [
       "try_outs (generic function with 1 method)"
      ]
     },
     "execution_count": 111,
     "metadata": {},
     "output_type": "execute_result"
    }
   ],
   "source": [
    "\n",
    "function try_outs(ner_m, x_in, y_in, eval_func)\n",
    "    unique_labels = unique(ner.model.labels)\n",
    "    num_labels = length(unique_labels)\n",
    "    confusion_matrix = zeros(Int, (num_labels, num_labels))\n",
    "\n",
    "    for (x_seq, y_seq) in zip(x_in, y_in)\n",
    "\n",
    "        preds = eval_func(ner_m, x_seq)\n",
    "        length(preds) != length(y_seq) && continue\n",
    "\n",
    "        for (pred, logit) in zip(preds, y_seq)\n",
    "            (logit == \"MISC\" || pred == \"INVALID\") && continue\n",
    "            confusion_matrix[findfirst(x -> x==pred, unique_labels), findfirst(x -> x==logit, unique_labels)] += 1\n",
    "        end\n",
    "    end\n",
    "\n",
    "    s1 = sum(confusion_matrix, dims=2)\n",
    "    s2 = sum(confusion_matrix, dims=1)'\n",
    "    dg = diag(confusion_matrix)\n",
    "    s1 = [s1[1:2]..., s1[4:5]...]\n",
    "    s2 = [s2[1:2]..., s2[4:5]...]\n",
    "    dg = [dg[1:2]..., dg[4:5]...]\n",
    "\n",
    "    unique_labels = unique(ner.model.labels)\n",
    "    deleteat!(unique_labels, findfirst(x -> x==\"MISC\", unique_labels))\n",
    "    # Don't count MISC\n",
    "    \n",
    "    f1s = []\n",
    "\n",
    "    for (p, r, d, tag) in zip(s1, s2, dg, unique_labels)\n",
    "        println(\"For tag `$tag`\")\n",
    "        prec = d/p\n",
    "        recall = d/r\n",
    "        f1 = (2 * prec * recall) /(prec + recall)\n",
    "        println(\"The precision is $prec\")\n",
    "        println(\"The recall is $recall\")\n",
    "        println(\"f1 is $f1\")\n",
    "        println()\n",
    "        push!(f1s, f1)\n",
    "    end\n",
    "\n",
    "    a = sum(dg ./ s1) / length(unique_labels)\n",
    "    b = sum(dg ./ s2) / length(unique_labels)\n",
    "    println(\"Overall Micro f1 for NER (excluding MISC) on CoNLL 2003 is \", (2 * a * b)/ (a + b))\n",
    "    println(\"Overall Macro f1 for NER (excluding MISC) on CoNLL 2003 is \", sum(f1s)/ length(f1s))\n",
    "end"
   ]
  },
  {
   "cell_type": "code",
   "execution_count": 7,
   "metadata": {},
   "outputs": [
    {
     "name": "stdout",
     "output_type": "stream",
     "text": [
      "For tag `ORG`\n",
      "The precision is 0.8897058823529411\n",
      "The recall is 0.8241185897435898\n",
      "f1 is 0.855657237936772\n",
      "\n",
      "For tag `O`\n",
      "The precision is 0.9901429018462501\n",
      "The recall is 0.9907888213344467\n",
      "f1 is 0.9904657562833405\n",
      "\n",
      "For tag `PER`\n",
      "The precision is 0.9708029197080292\n",
      "The recall is 0.9592499098449333\n",
      "f1 is 0.9649918374750589\n",
      "\n",
      "For tag `LOC`\n",
      "The precision is 0.9051504334523203\n",
      "The recall is 0.922077922077922\n",
      "f1 is 0.9135357694287184\n",
      "\n",
      "Overall Micro f1 for NER (excluding MISC) on CoNLL 2003 is 0.9314451550144375\n",
      "Overall Macro f1 for NER (excluding MISC) on CoNLL 2003 is 0.9311626502809724\n"
     ]
    }
   ],
   "source": [
    "try_outs(ner, X, Y, eval_ner_tagger)"
   ]
  },
  {
   "cell_type": "code",
   "execution_count": 8,
   "metadata": {},
   "outputs": [
    {
     "data": {
      "text/plain": [
       "PyObject <spacy.lang.en.English object at 0x7fbe2d7d29e8>"
      ]
     },
     "execution_count": 8,
     "metadata": {},
     "output_type": "execute_result"
    }
   ],
   "source": [
    "using PyCall, WordTokenizers\n",
    "spacy = pyimport(\"spacy\")\n",
    "nlp = spacy.load(\"en_core_web_sm\")"
   ]
  },
  {
   "cell_type": "code",
   "execution_count": 163,
   "metadata": {},
   "outputs": [
    {
     "data": {
      "text/plain": [
       "eval_spacy_tagger (generic function with 2 methods)"
      ]
     },
     "execution_count": 163,
     "metadata": {},
     "output_type": "execute_result"
    }
   ],
   "source": [
    "function eval_spacy_tagger(ner_m, x_seq)\n",
    "    preds = String[]\n",
    "    ents = ner_m(join(x_seq, \" \")).ents\n",
    "\n",
    "    idx = 1\n",
    "    i = 1\n",
    "    while i <= length(x_seq)\n",
    "        if idx <= length(ents) && x_seq[i] == tokenize(ents[idx].text)[1]\n",
    "            l = length(tokenize(ents[idx].text))\n",
    "\n",
    "            for k in 1:l\n",
    "                pred = ents[idx].label_\n",
    "                if (pred == \"PERSON\")\n",
    "                    push!(preds, \"PER\")\n",
    "                elseif ( pred == \"LOC\")\n",
    "                    push!(pred == \"GPE\" || preds, \"LOC\")\n",
    "                elseif (pred == \"ORG\")\n",
    "                    push!(preds, \"ORG\")\n",
    "                else\n",
    "                    push!(preds, \"INVALID\")\n",
    "                end\n",
    "            end\n",
    "            i = i + l - 1\n",
    "            idx += 1\n",
    "        else\n",
    "            push!(preds, \"O\")\n",
    "        end\n",
    "        i += 1\n",
    "    end\n",
    "\n",
    "    return preds\n",
    "end\n"
   ]
  },
  {
   "cell_type": "code",
   "execution_count": 164,
   "metadata": {},
   "outputs": [
    {
     "name": "stdout",
     "output_type": "stream",
     "text": [
      "For tag `ORG`\n",
      "The precision is 0.5077850326469111\n",
      "The recall is 0.504995004995005\n",
      "f1 is 0.5063861758076634\n",
      "\n",
      "For tag `O`\n",
      "The precision is 0.9367631609664994\n",
      "The recall is 0.9736131752145825\n",
      "f1 is 0.9548327607489699\n",
      "\n",
      "For tag `PER`\n",
      "The precision is 0.744390243902439\n",
      "The recall is 0.5715355805243446\n",
      "f1 is 0.6466101694915254\n",
      "\n",
      "For tag `LOC`\n",
      "The precision is 0.5232558139534884\n",
      "The recall is 0.0598404255319149\n",
      "f1 is 0.10739856801909307\n",
      "\n",
      "Overall Micro f1 for NER (excluding MISC) on CoNLL 2003 is 0.5933715492462358\n",
      "Overall Macro f1 for NER (excluding MISC) on CoNLL 2003 is 0.5538069185168129\n"
     ]
    }
   ],
   "source": [
    "try_outs(nlp, X, Y, eval_spacy_tagger)"
   ]
  },
  {
   "cell_type": "code",
   "execution_count": 149,
   "metadata": {},
   "outputs": [
    {
     "data": {
      "text/plain": [
       "nltk_ner (generic function with 1 method)"
      ]
     },
     "execution_count": 149,
     "metadata": {},
     "output_type": "execute_result"
    }
   ],
   "source": [
    "nltk = pyimport(\"nltk\")\n",
    "nltk_chunker = nltk.load(nltk.chunk._MULTICLASS_NE_CHUNKER)\n",
    "nltk_ner(x) = nltk_chunker._tagger.tag(nltk.pos_tag((x)))"
   ]
  },
  {
   "cell_type": "code",
   "execution_count": 162,
   "metadata": {},
   "outputs": [
    {
     "data": {
      "text/plain": [
       "eval_nltk_tagger (generic function with 2 methods)"
      ]
     },
     "execution_count": 162,
     "metadata": {},
     "output_type": "execute_result"
    }
   ],
   "source": [
    "function eval_nltk_tagger(ner_m, x_seq) \n",
    "    obtain_ner(x) = (x[2]) == \"O\" ? \"O\" : (x[2])[3:end]\n",
    "    preds = obtain_ner.(ner_m(x_seq))\n",
    "\n",
    "    for i in eachindex(preds)\n",
    "        preds[i] == \"O\" && continue\n",
    "\n",
    "        if preds[i] == \"PERSON\"\n",
    "            preds[i] = \"PER\"\n",
    "        elseif preds[i] == \"ORGANIZATION\"\n",
    "            preds[i] = \"ORG\"\n",
    "        elseif preds[i] ∈ (\"LOCATION\", \"GPE\")\n",
    "            preds[i] = \"LOC\"\n",
    "        else\n",
    "            preds[i] = \"INVALID\"\n",
    "        end\n",
    "    end\n",
    "    return preds\n",
    "end\n"
   ]
  },
  {
   "cell_type": "code",
   "execution_count": 151,
   "metadata": {},
   "outputs": [
    {
     "name": "stdout",
     "output_type": "stream",
     "text": [
      "For tag `ORG`\n",
      "The precision is 0.5396301188903567\n",
      "The recall is 0.3294354838709677\n",
      "f1 is 0.4091136705057587\n",
      "\n",
      "For tag `O`\n",
      "The precision is 0.9622844001533154\n",
      "The recall is 0.9827761684803883\n",
      "f1 is 0.9724223410024013\n",
      "\n",
      "For tag `PER`\n",
      "The precision is 0.7286072323666308\n",
      "The recall is 0.7349223546406645\n",
      "f1 is 0.7317511686443725\n",
      "\n",
      "For tag `LOC`\n",
      "The precision is 0.6288187372708758\n",
      "The recall is 0.6719260065288357\n",
      "f1 is 0.6496580746975277\n",
      "\n",
      "Overall Micro f1 for NER (excluding MISC) on CoNLL 2003 is 0.696859107260689\n",
      "Overall Macro f1 for NER (excluding MISC) on CoNLL 2003 is 0.6907363137125151\n"
     ]
    }
   ],
   "source": [
    "try_outs(nltk_ner, X, Y, eval_nltk_tagger)"
   ]
  },
  {
   "cell_type": "code",
   "execution_count": null,
   "metadata": {},
   "outputs": [],
   "source": []
  }
 ],
 "metadata": {
  "kernelspec": {
   "display_name": "Julia 1.0.3",
   "language": "julia",
   "name": "julia-1.0"
  },
  "language_info": {
   "file_extension": ".jl",
   "mimetype": "application/julia",
   "name": "julia",
   "version": "1.0.3"
  }
 },
 "nbformat": 4,
 "nbformat_minor": 2
}
