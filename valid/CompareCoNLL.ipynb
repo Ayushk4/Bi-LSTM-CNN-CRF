{
 "cells": [
  {
   "cell_type": "code",
   "execution_count": 6,
   "metadata": {},
   "outputs": [],
   "source": [
    "using TextAnalysis, CorpusLoaders, MultiResolutionIterators, LinearAlgebra"
   ]
  },
  {
   "cell_type": "code",
   "execution_count": 7,
   "metadata": {},
   "outputs": [
    {
     "data": {
      "text/plain": [
       "(Array{String,1}[[\"SOCCER\", \"-\", \"JAPAN\", \"GET\", \"LUCKY\", \"WIN\", \",\", \"CHINA\", \"IN\", \"SURPRISE\", \"DEFEAT\", \".\"], [\"Nadim\", \"Ladki\"], [\"AL-AIN\", \",\", \"United\", \"Arab\", \"Emirates\", \"1996-12-06\"], [\"Japan\", \"began\", \"the\", \"defence\", \"of\", \"their\", \"Asian\", \"Cup\", \"title\", \"with\"  …  \"Syria\", \"in\", \"a\", \"Group\", \"C\", \"championship\", \"match\", \"on\", \"Friday\", \".\"], [\"But\", \"China\", \"saw\", \"their\", \"luck\", \"desert\", \"them\", \"in\", \"the\", \"second\"  …  \"crashing\", \"to\", \"a\", \"surprise\", \"2-0\", \"defeat\", \"to\", \"newcomers\", \"Uzbekistan\", \".\"], [\"China\", \"controlled\", \"most\", \"of\", \"the\", \"match\", \"and\", \"saw\", \"several\", \"chances\"  …  \"the\", \"advancing\", \"Chinese\", \"keeper\", \"and\", \"into\", \"an\", \"empty\", \"net\", \".\"], [\"Oleg\", \"Shatskiku\", \"made\", \"sure\", \"of\", \"the\", \"win\", \"in\", \"injury\", \"time\"  …  \"unstoppable\", \"left\", \"foot\", \"shot\", \"from\", \"just\", \"outside\", \"the\", \"area\", \".\"], [\"The\", \"former\", \"Soviet\", \"republic\", \"was\", \"playing\", \"in\", \"an\", \"Asian\", \"Cup\", \"finals\", \"tie\", \"for\", \"the\", \"first\", \"time\", \".\"], [\"Despite\", \"winning\", \"the\", \"Asian\", \"Games\", \"title\", \"two\", \"years\", \"ago\", \",\", \"Uzbekistan\", \"are\", \"in\", \"the\", \"finals\", \"as\", \"outsiders\", \".\"], [\"Two\", \"goals\", \"from\", \"defensive\", \"errors\", \"in\", \"the\", \"last\", \"six\", \"minutes\"  …  \"all\", \"three\", \"points\", \"from\", \"their\", \"opening\", \"meeting\", \"against\", \"Syria\", \".\"]  …  [\"DUBLIN\", \"1996-12-07\"], [\"Jack\", \"Charlton\", \"'s\", \"relationship\", \"with\", \"the\", \"people\", \"of\", \"Ireland\", \"was\"  …  \"the\", \"Englishman\", \"was\", \"officially\", \"declared\", \"one\", \"of\", \"their\", \"own\", \".\"], [\"Charlton\", \",\", \"61\", \",\", \"and\", \"his\", \"wife\", \",\", \"Peggy\", \",\"  …  \"of\", \"Charlton\", \"'s\", \"achievements\", \"as\", \"the\", \"national\", \"soccer\", \"manager\", \".\"], [\"\\\"\", \"The\", \"years\", \"I\", \"spent\", \"as\", \"manager\", \"of\", \"the\", \"Republic\", \"of\", \"Ireland\", \"were\", \"the\", \"best\", \"years\", \"of\", \"my\", \"life\", \".\"], [\"It\", \"all\", \"culminated\", \"in\", \"the\", \"fact\", \"that\", \"I\", \"now\", \"have\", \"lots\", \"of\", \"great\", \",\", \"great\", \"friends\", \"in\", \"Ireland\", \".\"], [\"That\", \"is\", \"why\", \"this\", \"is\", \"so\", \"emotional\", \"a\", \"night\", \"for\", \"me\", \",\", \"\\\"\", \"Charlton\", \"said\", \".\"], [\"\\\"\", \"It\", \"was\", \"the\", \"joy\", \"that\", \"we\", \"all\", \"had\", \"over\"  …  \",\", \"that\", \"I\", \"treasure\", \"most\", \",\", \"\\\"\", \"he\", \"added\", \".\"], [\"Charlton\", \"managed\", \"Ireland\", \"for\", \"93\", \"matches\", \",\", \"during\", \"which\", \"time\"  …  \"almost\", \"10\", \"years\", \"until\", \"he\", \"resigned\", \"in\", \"December\", \"1995\", \".\"], [\"He\", \"guided\", \"Ireland\", \"to\", \"two\", \"successive\", \"World\", \"Cup\", \"finals\", \"tournaments\"  …  \"a\", \"well-fancied\", \"England\", \"team\", \"1-0\", \"in\", \"their\", \"group\", \"qualifier\", \".\"], [\"The\", \"lanky\", \"former\", \"Leeds\", \"United\", \"defender\", \"did\", \"not\", \"make\", \"his\"  …  \"Cup\", \"winning\", \"team\", \"with\", \"his\", \"younger\", \"brother\", \",\", \"Bobby\", \".\"]], Array{String,1}[[\"O\", \"O\", \"LOC\", \"O\", \"O\", \"O\", \"O\", \"PER\", \"O\", \"O\", \"O\", \"O\"], [\"PER\", \"PER\"], [\"LOC\", \"O\", \"LOC\", \"LOC\", \"LOC\", \"O\"], [\"LOC\", \"O\", \"O\", \"O\", \"O\", \"O\", \"MISC\", \"MISC\", \"O\", \"O\"  …  \"LOC\", \"O\", \"O\", \"O\", \"O\", \"O\", \"O\", \"O\", \"O\", \"O\"], [\"O\", \"LOC\", \"O\", \"O\", \"O\", \"O\", \"O\", \"O\", \"O\", \"O\"  …  \"O\", \"O\", \"O\", \"O\", \"O\", \"O\", \"O\", \"O\", \"LOC\", \"O\"], [\"LOC\", \"O\", \"O\", \"O\", \"O\", \"O\", \"O\", \"O\", \"O\", \"O\"  …  \"O\", \"O\", \"MISC\", \"O\", \"O\", \"O\", \"O\", \"O\", \"O\", \"O\"], [\"PER\", \"PER\", \"O\", \"O\", \"O\", \"O\", \"O\", \"O\", \"O\", \"O\"  …  \"O\", \"O\", \"O\", \"O\", \"O\", \"O\", \"O\", \"O\", \"O\", \"O\"], [\"O\", \"O\", \"MISC\", \"O\", \"O\", \"O\", \"O\", \"O\", \"MISC\", \"MISC\", \"O\", \"O\", \"O\", \"O\", \"O\", \"O\", \"O\"], [\"O\", \"O\", \"O\", \"MISC\", \"MISC\", \"O\", \"O\", \"O\", \"O\", \"O\", \"LOC\", \"O\", \"O\", \"O\", \"O\", \"O\", \"O\", \"O\"], [\"O\", \"O\", \"O\", \"O\", \"O\", \"O\", \"O\", \"O\", \"O\", \"O\"  …  \"O\", \"O\", \"O\", \"O\", \"O\", \"O\", \"O\", \"O\", \"LOC\", \"O\"]  …  [\"LOC\", \"O\"], [\"PER\", \"PER\", \"O\", \"O\", \"O\", \"O\", \"O\", \"O\", \"LOC\", \"O\"  …  \"O\", \"MISC\", \"O\", \"O\", \"O\", \"O\", \"O\", \"O\", \"O\", \"O\"], [\"PER\", \"O\", \"O\", \"O\", \"O\", \"O\", \"O\", \"O\", \"PER\", \"O\"  …  \"O\", \"PER\", \"O\", \"O\", \"O\", \"O\", \"O\", \"O\", \"O\", \"O\"], [\"O\", \"O\", \"O\", \"O\", \"O\", \"O\", \"O\", \"O\", \"O\", \"LOC\", \"LOC\", \"LOC\", \"O\", \"O\", \"O\", \"O\", \"O\", \"O\", \"O\", \"O\"], [\"O\", \"O\", \"O\", \"O\", \"O\", \"O\", \"O\", \"O\", \"O\", \"O\", \"O\", \"O\", \"O\", \"O\", \"O\", \"O\", \"O\", \"LOC\", \"O\"], [\"O\", \"O\", \"O\", \"O\", \"O\", \"O\", \"O\", \"O\", \"O\", \"O\", \"O\", \"O\", \"O\", \"PER\", \"O\", \"O\"], [\"O\", \"O\", \"O\", \"O\", \"O\", \"O\", \"O\", \"O\", \"O\", \"O\"  …  \"O\", \"O\", \"O\", \"O\", \"O\", \"O\", \"O\", \"O\", \"O\", \"O\"], [\"PER\", \"O\", \"LOC\", \"O\", \"O\", \"O\", \"O\", \"O\", \"O\", \"O\"  …  \"O\", \"O\", \"O\", \"O\", \"O\", \"O\", \"O\", \"O\", \"O\", \"O\"], [\"O\", \"O\", \"LOC\", \"O\", \"O\", \"O\", \"MISC\", \"MISC\", \"O\", \"O\"  …  \"O\", \"O\", \"LOC\", \"O\", \"O\", \"O\", \"O\", \"O\", \"O\", \"O\"], [\"O\", \"O\", \"O\", \"ORG\", \"ORG\", \"O\", \"O\", \"O\", \"O\", \"O\"  …  \"MISC\", \"O\", \"O\", \"O\", \"O\", \"O\", \"O\", \"O\", \"PER\", \"O\"]])"
      ]
     },
     "execution_count": 7,
     "metadata": {},
     "output_type": "execute_result"
    }
   ],
   "source": [
    "test_set = CorpusLoaders.load(CoNLL(), \"test\") # test set\n",
    "test_dataset = flatten_levels(test_set, lvls(CoNLL, :document)) |> full_consolidate\n",
    "\n",
    "function obtain_X_Y(dataset)\n",
    "    X = [CorpusLoaders.word.(sent) for sent in dataset]\n",
    "    Y = [TextAnalysis.remove_ner_label_prefix.(CorpusLoaders.named_entity.(sent)) for sent in dataset]\n",
    "    return X, Y\n",
    "end\n",
    "\n",
    "X, Y = obtain_X_Y(test_dataset)"
   ]
  },
  {
   "cell_type": "code",
   "execution_count": 8,
   "metadata": {},
   "outputs": [
    {
     "data": {
      "text/plain": [
       "eval_ner_tagger (generic function with 1 method)"
      ]
     },
     "execution_count": 8,
     "metadata": {},
     "output_type": "execute_result"
    }
   ],
   "source": [
    "ner = NERTagger()\n",
    "\n",
    "function eval_ner_tagger(ner_m, x_seq) \n",
    "    ner_m(x_seq)\n",
    "end\n"
   ]
  },
  {
   "cell_type": "code",
   "execution_count": 9,
   "metadata": {},
   "outputs": [
    {
     "data": {
      "text/plain": [
       "try_outs (generic function with 1 method)"
      ]
     },
     "execution_count": 9,
     "metadata": {},
     "output_type": "execute_result"
    }
   ],
   "source": [
    "function try_outs(ner_m, x_in, y_in, eval_func)\n",
    "    unique_labels = unique(ner.model.labels)\n",
    "    num_labels = length(unique_labels)\n",
    "    confusion_matrix = zeros(Int, (num_labels, num_labels))\n",
    "\n",
    "    for (x_seq, y_seq) in zip(x_in, y_in)\n",
    "\n",
    "        preds = eval_func(ner_m, x_seq)\n",
    "        length(preds) != length(y_seq) && continue\n",
    "\n",
    "        for (pred, logit) in zip(preds, y_seq)\n",
    "            (logit == \"MISC\" || pred == \"INVALID\") && continue\n",
    "            confusion_matrix[findfirst(x -> x==pred, unique_labels), findfirst(x -> x==logit, unique_labels)] += 1\n",
    "        end\n",
    "    end\n",
    "\n",
    "    s1 = sum(confusion_matrix, dims=2)\n",
    "    s2 = sum(confusion_matrix, dims=1)'\n",
    "    dg = diag(confusion_matrix)\n",
    "    s1 = [s1[1:2]..., s1[4:5]...]\n",
    "    s2 = [s2[1:2]..., s2[4:5]...]\n",
    "    dg = [dg[1:2]..., dg[4:5]...]\n",
    "\n",
    "    unique_labels = unique(ner.model.labels)\n",
    "    deleteat!(unique_labels, findfirst(x -> x==\"MISC\", unique_labels))\n",
    "    # Don't count MISC\n",
    "    \n",
    "    f1s = []\n",
    "\n",
    "    for (p, r, d, tag) in zip(s1, s2, dg, unique_labels)\n",
    "        println(\"For tag `$tag`\")\n",
    "        prec = d/p\n",
    "        recall = d/r\n",
    "        f1 = (2 * prec * recall) /(prec + recall)\n",
    "        println(\"The precision is $prec\")\n",
    "        println(\"The recall is $recall\")\n",
    "        println(\"f1 is $f1\")\n",
    "        println()\n",
    "        push!(f1s, f1)\n",
    "    end\n",
    "\n",
    "    a = sum(dg ./ s1) / length(unique_labels)\n",
    "    b = sum(dg ./ s2) / length(unique_labels)\n",
    "    println(\"Overall Micro f1 for NER (excluding MISC) on CoNLL 2003 is \", (2 * a * b)/ (a + b))\n",
    "    println(\"Overall Macro f1 for NER (excluding MISC) on CoNLL 2003 is \", sum(f1s)/ length(f1s))\n",
    "end"
   ]
  },
  {
   "cell_type": "code",
   "execution_count": 10,
   "metadata": {},
   "outputs": [
    {
     "name": "stdout",
     "output_type": "stream",
     "text": [
      "For tag `ORG`\n",
      "The precision is 0.8897058823529411\n",
      "The recall is 0.8241185897435898\n",
      "f1 is 0.855657237936772\n",
      "\n",
      "For tag `O`\n",
      "The precision is 0.9901429018462501\n",
      "The recall is 0.9907888213344467\n",
      "f1 is 0.9904657562833405\n",
      "\n",
      "For tag `PER`\n",
      "The precision is 0.9708029197080292\n",
      "The recall is 0.9592499098449333\n",
      "f1 is 0.9649918374750589\n",
      "\n",
      "For tag `LOC`\n",
      "The precision is 0.9051504334523203\n",
      "The recall is 0.922077922077922\n",
      "f1 is 0.9135357694287184\n",
      "\n",
      "Overall Micro f1 for NER (excluding MISC) on CoNLL 2003 is 0.9314451550144375\n",
      "Overall Macro f1 for NER (excluding MISC) on CoNLL 2003 is 0.9311626502809724\n"
     ]
    }
   ],
   "source": [
    "try_outs(ner, X, Y, eval_ner_tagger)"
   ]
  },
  {
   "cell_type": "code",
   "execution_count": 11,
   "metadata": {},
   "outputs": [
    {
     "data": {
      "text/plain": [
       "PyObject <spacy.lang.en.English object at 0x7f7b74043ac8>"
      ]
     },
     "execution_count": 11,
     "metadata": {},
     "output_type": "execute_result"
    }
   ],
   "source": [
    "using PyCall, WordTokenizers\n",
    "spacy = pyimport(\"spacy\")\n",
    "nlp = spacy.load(\"en_core_web_sm\")"
   ]
  },
  {
   "cell_type": "code",
   "execution_count": 20,
   "metadata": {},
   "outputs": [
    {
     "data": {
      "text/plain": [
       "eval_spacy_tagger (generic function with 1 method)"
      ]
     },
     "execution_count": 20,
     "metadata": {},
     "output_type": "execute_result"
    }
   ],
   "source": [
    "function eval_spacy_tagger(ner_m, x_seq)\n",
    "    preds = String[]\n",
    "    ents = ner_m(join(x_seq, \" \")).ents\n",
    "\n",
    "    idx = 1\n",
    "    i = 1\n",
    "    while i <= length(x_seq)\n",
    "        if idx <= length(ents) && x_seq[i] == tokenize(ents[idx].text)[1]\n",
    "            l = length(tokenize(ents[idx].text))\n",
    "\n",
    "            for k in 1:l\n",
    "                pred = ents[idx].label_\n",
    "                if (pred == \"PERSON\")\n",
    "                    push!(preds, \"PER\")\n",
    "                elseif ( pred == \"LOC\" || pred == \"GPE\")\n",
    "                    push!(preds, \"LOC\")\n",
    "                elseif (pred == \"ORG\")\n",
    "                    push!(preds, \"ORG\")\n",
    "                else\n",
    "                    push!(preds, \"INVALID\")\n",
    "                end\n",
    "            end\n",
    "            i = i + l - 1\n",
    "            idx += 1\n",
    "        else\n",
    "            push!(preds, \"O\")\n",
    "        end\n",
    "        i += 1\n",
    "    end\n",
    "\n",
    "    return preds\n",
    "end\n"
   ]
  },
  {
   "cell_type": "code",
   "execution_count": 21,
   "metadata": {},
   "outputs": [
    {
     "name": "stdout",
     "output_type": "stream",
     "text": [
      "For tag `ORG`\n",
      "The precision is 0.5077850326469111\n",
      "The recall is 0.4298469387755102\n",
      "f1 is 0.4655767902371633\n",
      "\n",
      "For tag `O`\n",
      "The precision is 0.9367631609664994\n",
      "The recall is 0.9720800654089574\n",
      "f1 is 0.9540949012497958\n",
      "\n",
      "For tag `PER`\n",
      "The precision is 0.744390243902439\n",
      "The recall is 0.5626843657817109\n",
      "f1 is 0.6409071818563629\n",
      "\n",
      "For tag `LOC`\n",
      "The precision is 0.706060606060606\n",
      "The recall is 0.6223290598290598\n",
      "f1 is 0.6615559341283361\n",
      "\n",
      "Overall Micro f1 for NER (excluding MISC) on CoNLL 2003 is 0.6830785077457464\n",
      "Overall Macro f1 for NER (excluding MISC) on CoNLL 2003 is 0.6805337018679145\n"
     ]
    }
   ],
   "source": [
    "try_outs(nlp, X, Y, eval_spacy_tagger)"
   ]
  },
  {
   "cell_type": "code",
   "execution_count": 14,
   "metadata": {},
   "outputs": [
    {
     "data": {
      "text/plain": [
       "nltk_ner (generic function with 1 method)"
      ]
     },
     "execution_count": 14,
     "metadata": {},
     "output_type": "execute_result"
    }
   ],
   "source": [
    "nltk = pyimport(\"nltk\")\n",
    "nltk_chunker = nltk.load(nltk.chunk._MULTICLASS_NE_CHUNKER)\n",
    "nltk_ner(x) = nltk_chunker._tagger.tag(nltk.pos_tag((x)))"
   ]
  },
  {
   "cell_type": "code",
   "execution_count": 15,
   "metadata": {},
   "outputs": [
    {
     "data": {
      "text/plain": [
       "eval_nltk_tagger (generic function with 1 method)"
      ]
     },
     "execution_count": 15,
     "metadata": {},
     "output_type": "execute_result"
    }
   ],
   "source": [
    "function eval_nltk_tagger(ner_m, x_seq) \n",
    "    obtain_ner(x) = (x[2]) == \"O\" ? \"O\" : (x[2])[3:end]\n",
    "    preds = obtain_ner.(ner_m(x_seq))\n",
    "\n",
    "    for i in eachindex(preds)\n",
    "        preds[i] == \"O\" && continue\n",
    "\n",
    "        if preds[i] == \"PERSON\"\n",
    "            preds[i] = \"PER\"\n",
    "        elseif preds[i] == \"ORGANIZATION\"\n",
    "            preds[i] = \"ORG\"\n",
    "        elseif preds[i] ∈ (\"LOCATION\", \"GPE\")\n",
    "            preds[i] = \"LOC\"\n",
    "        else\n",
    "            preds[i] = \"INVALID\"\n",
    "        end\n",
    "    end\n",
    "    return preds\n",
    "end\n"
   ]
  },
  {
   "cell_type": "code",
   "execution_count": 16,
   "metadata": {},
   "outputs": [
    {
     "name": "stdout",
     "output_type": "stream",
     "text": [
      "For tag `ORG`\n",
      "The precision is 0.5396301188903567\n",
      "The recall is 0.3294354838709677\n",
      "f1 is 0.4091136705057587\n",
      "\n",
      "For tag `O`\n",
      "The precision is 0.9622844001533154\n",
      "The recall is 0.9827761684803883\n",
      "f1 is 0.9724223410024013\n",
      "\n",
      "For tag `PER`\n",
      "The precision is 0.7286072323666308\n",
      "The recall is 0.7349223546406645\n",
      "f1 is 0.7317511686443725\n",
      "\n",
      "For tag `LOC`\n",
      "The precision is 0.6288187372708758\n",
      "The recall is 0.6719260065288357\n",
      "f1 is 0.6496580746975277\n",
      "\n",
      "Overall Micro f1 for NER (excluding MISC) on CoNLL 2003 is 0.696859107260689\n",
      "Overall Macro f1 for NER (excluding MISC) on CoNLL 2003 is 0.6907363137125151\n"
     ]
    }
   ],
   "source": [
    "try_outs(nltk_ner, X, Y, eval_nltk_tagger)"
   ]
  },
  {
   "cell_type": "code",
   "execution_count": null,
   "metadata": {},
   "outputs": [],
   "source": []
  },
  {
   "cell_type": "code",
   "execution_count": null,
   "metadata": {},
   "outputs": [],
   "source": []
  }
 ],
 "metadata": {
  "kernelspec": {
   "display_name": "Julia 1.0.3",
   "language": "julia",
   "name": "julia-1.0"
  },
  "language_info": {
   "file_extension": ".jl",
   "mimetype": "application/julia",
   "name": "julia",
   "version": "1.0.3"
  }
 },
 "nbformat": 4,
 "nbformat_minor": 2
}
