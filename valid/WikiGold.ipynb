{
 "cells": [
  {
   "cell_type": "code",
   "execution_count": 1,
   "metadata": {},
   "outputs": [
    {
     "name": "stderr",
     "output_type": "stream",
     "text": [
      "┌ Info: Recompiling stale cache file /home/ayushk4/.julia/compiled/v1.0/TextAnalysis/5Mwet.ji for TextAnalysis [a2db99b7-8b79-58f8-94bf-bbc811eef33d]\n",
      "└ @ Base loading.jl:1190\n",
      "┌ Warning: Package TextAnalysis does not have Statistics in its dependencies:\n",
      "│ - If you have TextAnalysis checked out for development and have\n",
      "│   added Statistics as a dependency but haven't updated your primary\n",
      "│   environment's manifest file, try `Pkg.resolve()`.\n",
      "│ - Otherwise you may need to report an issue with TextAnalysis\n",
      "└ Loading Statistics into TextAnalysis from project dependency, future warnings for TextAnalysis are suppressed.\n",
      "┌ Warning: Over-writing registration of the datadep\n",
      "│   name = NER Model Weights\n",
      "└ @ DataDeps /home/ayushk4/.julia/packages/DataDeps/RYAia/src/registration.jl:8\n",
      "┌ Warning: Over-writing registration of the datadep\n",
      "│   name = NER Model Dicts\n",
      "└ @ DataDeps /home/ayushk4/.julia/packages/DataDeps/RYAia/src/registration.jl:8\n"
     ]
    },
    {
     "data": {
      "text/plain": [
       "remove_ner_label_prefix (generic function with 1 method)"
      ]
     },
     "execution_count": 1,
     "metadata": {},
     "output_type": "execute_result"
    }
   ],
   "source": [
    "include(\"f1.jl\")\n",
    "include(\"../src/ner.jl\")"
   ]
  },
  {
   "cell_type": "code",
   "execution_count": 2,
   "metadata": {},
   "outputs": [
    {
     "data": {
      "text/plain": [
       "NERmodel{BiLSTM_CNN_CRF_Model{Conv{2,2,typeof(identity),TrackedArray{…,Array{Float32,4}},TrackedArray{…,Array{Float32,1}}},Array{Float32,2},Flux.Recur{Flux.LSTMCell{TrackedArray{…,Array{Float32,2}},TrackedArray{…,Array{Float32,1}}}},Dense{typeof(identity),TrackedArray{…,Array{Float32,2}},TrackedArray{…,Array{Float32,1}}},CRF{TrackedArray{…,Array{Float32,2}}},Array{Int64,2}}}(BiLSTM_CNN_CRF_Model{Conv{2,2,typeof(identity),TrackedArray{…,Array{Float32,4}},TrackedArray{…,Array{Float32,1}}},Array{Float32,2},Flux.Recur{Flux.LSTMCell{TrackedArray{…,Array{Float32,2}},TrackedArray{…,Array{Float32,1}}}},Dense{typeof(identity),TrackedArray{…,Array{Float32,2}},TrackedArray{…,Array{Float32,1}}},CRF{TrackedArray{…,Array{Float32,2}}},Array{Int64,2}}([\"ORG\", \"O\", \"MISC\", \"PER\", \"PER\", \"LOC\", \"ORG\", \"ORG\", \"PER\", \"PER\", \"MISC\", \"MISC\", \"MISC\", \"ORG\", \"LOC\", \"LOC\", \"LOC\"], Dict('w'=>81,'E'=>34,'7'=>22,'Z'=>55,']'=>57,'o'=>73,'B'=>31,'5'=>20,'h'=>66,'i'=>67…), Dict(\"newdigate\"=>164100,\"daufuskie\"=>254784,\"single-arm\"=>192007,\"titration\"=>117879,\"qajar\"=>66399,\"pinheiro\"=>38763,\"hospitalet\"=>282158,\"kennedale\"=>223560,\"tetracyclic\"=>353804,\"moher\"=>167242…), Conv((25, 3), 1=>30), Float32[0.880601 0.153612 … 0.86051 0.858812; 0.887304 0.898423 … 0.515943 0.00389232; … ; 0.517678 0.954239 … 0.178151 0.0856252; 0.269013 0.325978 … 0.435523 0.763729], Float32[-0.038194 -0.10767 … 0.513332 0.782205; -0.24487 0.11053 … 0.519824 0.431589; … ; 0.8278 0.45293 … 0.0792154 0.498268; 0.27062 0.082577 … 0.51087 0.674251], Recur(LSTMCell(130, 200)), Recur(LSTMCell(130, 200)), Dense(400, 19), CRF with 19 distinct tags (including START and STOP tags)., [-10000; -10000; … ; 0; -10000], 400001, 85))"
      ]
     },
     "execution_count": 2,
     "metadata": {},
     "output_type": "execute_result"
    }
   ],
   "source": [
    "ner = NERTagger()"
   ]
  },
  {
   "cell_type": "code",
   "execution_count": 3,
   "metadata": {},
   "outputs": [
    {
     "name": "stderr",
     "output_type": "stream",
     "text": [
      "WARNING: using CorpusLoaders.load in module Main conflicts with an existing identifier.\n"
     ]
    }
   ],
   "source": [
    "using CorpusLoaders, MultiResolutionIterators"
   ]
  },
  {
   "cell_type": "code",
   "execution_count": 4,
   "metadata": {},
   "outputs": [],
   "source": [
    "dataset = CorpusLoaders.load(WikiGold())\n",
    "dataset = flatten_levels(dataset, lvls(WikiGold, :document)) |> full_consolidate\n",
    "\n",
    "X = [CorpusLoaders.word.(sent) for sent in dataset]\n",
    "Y = [remove_ner_label_prefix.(CorpusLoaders.named_entity.(sent)) for sent in dataset]\n",
    "@assert length.(X) == length.(Y)"
   ]
  },
  {
   "cell_type": "code",
   "execution_count": 5,
   "metadata": {},
   "outputs": [
    {
     "data": {
      "text/plain": [
       "5-element Array{String,1}:\n",
       " \"MISC\"\n",
       " \"O\"   \n",
       " \"ORG\" \n",
       " \"PER\" \n",
       " \"LOC\" "
      ]
     },
     "execution_count": 5,
     "metadata": {},
     "output_type": "execute_result"
    }
   ],
   "source": [
    "unique(vcat(Y...))"
   ]
  },
  {
   "cell_type": "code",
   "execution_count": 6,
   "metadata": {},
   "outputs": [
    {
     "name": "stdout",
     "output_type": "stream",
     "text": [
      "Precision and recall are:0.7911659076776466 0.6469816247428196\n",
      "F1 is:0.7118460281038229\n"
     ]
    }
   ],
   "source": [
    "try_outs(ner, X, Y)"
   ]
  },
  {
   "cell_type": "code",
   "execution_count": null,
   "metadata": {},
   "outputs": [],
   "source": []
  }
 ],
 "metadata": {
  "kernelspec": {
   "display_name": "Julia 1.0.3",
   "language": "julia",
   "name": "julia-1.0"
  },
  "language_info": {
   "file_extension": ".jl",
   "mimetype": "application/julia",
   "name": "julia",
   "version": "1.0.3"
  }
 },
 "nbformat": 4,
 "nbformat_minor": 2
}
